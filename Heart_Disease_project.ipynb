{
 "cells": [
  {
   "cell_type": "markdown",
   "id": "51c527e9-6741-4fd0-8be1-d2ab80cdd568",
   "metadata": {},
   "source": [
    "# About Heart Attack\n"
   ]
  },
  {
   "cell_type": "markdown",
   "id": "a9106f1e-0f07-4d8a-a84c-d30734aade1e",
   "metadata": {},
   "source": [
    "#### A heart attack, also called a myocardial infarction, happens when a part of the heart muscle doesn’t get enough blood.\n",
    "#### The more time that passes without treatment to restore blood flow, the greater the damage to the heart muscle.\n",
    "#### Coronary artery disease (CAD) is the main cause of heart attack. A less common cause is a severe spasm, or sudden contraction, of a coronary artery that can stop blood flow to the heart muscle."
   ]
  },
  {
   "cell_type": "markdown",
   "id": "8d9e6a12-2025-4a55-907f-2def2180774f",
   "metadata": {},
   "source": [
    "# Steps To Take"
   ]
  },
  {
   "cell_type": "markdown",
   "id": "046d544f-5b89-4717-8bb7-0d0870d19c18",
   "metadata": {},
   "source": [
    "* Load the dataset\n",
    "* Interact with the data to get different information from the data\n",
    "* Then we will clean and prepare the data for visualization\n",
    "* Then we can ask different questions from the data\n",
    "* lastly we perform some visualization with the data"
   ]
  },
  {
   "cell_type": "markdown",
   "id": "6cf1b3f5-27d5-4dec-94f2-64feb54f84a6",
   "metadata": {},
   "source": [
    "# Setup The Environment"
   ]
  },
  {
   "cell_type": "code",
   "execution_count": 1,
   "id": "653a2f98-3754-4cc2-8cb2-93ebc29912c0",
   "metadata": {},
   "outputs": [
    {
     "name": "stdout",
     "output_type": "stream",
     "text": [
      "Requirement already satisfied: matplotlib in c:\\anaconda\\lib\\site-packages (3.4.3)\n",
      "Requirement already satisfied: pyparsing>=2.2.1 in c:\\anaconda\\lib\\site-packages (from matplotlib) (3.0.4)\n",
      "Requirement already satisfied: numpy>=1.16 in c:\\anaconda\\lib\\site-packages (from matplotlib) (1.20.3)\n",
      "Requirement already satisfied: python-dateutil>=2.7 in c:\\anaconda\\lib\\site-packages (from matplotlib) (2.8.2)\n",
      "Requirement already satisfied: kiwisolver>=1.0.1 in c:\\anaconda\\lib\\site-packages (from matplotlib) (1.3.1)\n",
      "Requirement already satisfied: cycler>=0.10 in c:\\anaconda\\lib\\site-packages (from matplotlib) (0.10.0)\n",
      "Requirement already satisfied: pillow>=6.2.0 in c:\\anaconda\\lib\\site-packages (from matplotlib) (8.4.0)\n",
      "Requirement already satisfied: six in c:\\anaconda\\lib\\site-packages (from cycler>=0.10->matplotlib) (1.16.0)\n",
      "Note: you may need to restart the kernel to use updated packages.\n"
     ]
    }
   ],
   "source": [
    "pip install matplotlib"
   ]
  },
  {
   "cell_type": "code",
   "execution_count": 2,
   "id": "8eee388b-1fb1-40a2-85db-0b70b06efec8",
   "metadata": {},
   "outputs": [
    {
     "name": "stdout",
     "output_type": "stream",
     "text": [
      "done\n"
     ]
    }
   ],
   "source": [
    "import matplotlib\n",
    "import pandas as pd\n",
    "import numpy as np\n",
    "import matplotlib.pyplot as plt\n",
    "import seaborn as sns\n",
    "%matplotlib inline\n",
    "\n",
    "\n",
    "sns.set_style('darkgrid')\n",
    "matplotlib.rcParams['font.size'] = 10\n",
    "matplotlib.rcParams['figure.figsize'] = (9, 5)\n",
    "matplotlib.rcParams['figure.facecolor'] = '#00000000'\n",
    "\n",
    "print('done')"
   ]
  },
  {
   "cell_type": "code",
   "execution_count": 3,
   "id": "76993376-5043-4412-bc52-e5b2579e6468",
   "metadata": {},
   "outputs": [],
   "source": [
    "# load the data set\n",
    "def get_data():\n",
    "    df  = pd.read_csv('./Data Analysis Project/heart_cleveland_upload.csv')\n",
    "    return df"
   ]
  },
  {
   "cell_type": "code",
   "execution_count": 4,
   "id": "02b8641e-63c2-4f29-965d-20467f02f0b0",
   "metadata": {},
   "outputs": [],
   "source": [
    "df = get_data()"
   ]
  },
  {
   "cell_type": "code",
   "execution_count": 5,
   "id": "0afbf5fb-0e8e-4cc0-b718-bc4ae16050e7",
   "metadata": {},
   "outputs": [
    {
     "data": {
      "text/html": [
       "<div>\n",
       "<style scoped>\n",
       "    .dataframe tbody tr th:only-of-type {\n",
       "        vertical-align: middle;\n",
       "    }\n",
       "\n",
       "    .dataframe tbody tr th {\n",
       "        vertical-align: top;\n",
       "    }\n",
       "\n",
       "    .dataframe thead th {\n",
       "        text-align: right;\n",
       "    }\n",
       "</style>\n",
       "<table border=\"1\" class=\"dataframe\">\n",
       "  <thead>\n",
       "    <tr style=\"text-align: right;\">\n",
       "      <th></th>\n",
       "      <th>age</th>\n",
       "      <th>sex</th>\n",
       "      <th>cp</th>\n",
       "      <th>trestbps</th>\n",
       "      <th>chol</th>\n",
       "      <th>fbs</th>\n",
       "      <th>restecg</th>\n",
       "      <th>thalach</th>\n",
       "      <th>exang</th>\n",
       "      <th>oldpeak</th>\n",
       "      <th>slope</th>\n",
       "      <th>ca</th>\n",
       "      <th>thal</th>\n",
       "      <th>condition</th>\n",
       "    </tr>\n",
       "  </thead>\n",
       "  <tbody>\n",
       "    <tr>\n",
       "      <th>0</th>\n",
       "      <td>69</td>\n",
       "      <td>1</td>\n",
       "      <td>0</td>\n",
       "      <td>160</td>\n",
       "      <td>234</td>\n",
       "      <td>1</td>\n",
       "      <td>2</td>\n",
       "      <td>131</td>\n",
       "      <td>0</td>\n",
       "      <td>0.1</td>\n",
       "      <td>1</td>\n",
       "      <td>1</td>\n",
       "      <td>0</td>\n",
       "      <td>0</td>\n",
       "    </tr>\n",
       "    <tr>\n",
       "      <th>1</th>\n",
       "      <td>69</td>\n",
       "      <td>0</td>\n",
       "      <td>0</td>\n",
       "      <td>140</td>\n",
       "      <td>239</td>\n",
       "      <td>0</td>\n",
       "      <td>0</td>\n",
       "      <td>151</td>\n",
       "      <td>0</td>\n",
       "      <td>1.8</td>\n",
       "      <td>0</td>\n",
       "      <td>2</td>\n",
       "      <td>0</td>\n",
       "      <td>0</td>\n",
       "    </tr>\n",
       "    <tr>\n",
       "      <th>2</th>\n",
       "      <td>66</td>\n",
       "      <td>0</td>\n",
       "      <td>0</td>\n",
       "      <td>150</td>\n",
       "      <td>226</td>\n",
       "      <td>0</td>\n",
       "      <td>0</td>\n",
       "      <td>114</td>\n",
       "      <td>0</td>\n",
       "      <td>2.6</td>\n",
       "      <td>2</td>\n",
       "      <td>0</td>\n",
       "      <td>0</td>\n",
       "      <td>0</td>\n",
       "    </tr>\n",
       "    <tr>\n",
       "      <th>3</th>\n",
       "      <td>65</td>\n",
       "      <td>1</td>\n",
       "      <td>0</td>\n",
       "      <td>138</td>\n",
       "      <td>282</td>\n",
       "      <td>1</td>\n",
       "      <td>2</td>\n",
       "      <td>174</td>\n",
       "      <td>0</td>\n",
       "      <td>1.4</td>\n",
       "      <td>1</td>\n",
       "      <td>1</td>\n",
       "      <td>0</td>\n",
       "      <td>1</td>\n",
       "    </tr>\n",
       "    <tr>\n",
       "      <th>4</th>\n",
       "      <td>64</td>\n",
       "      <td>1</td>\n",
       "      <td>0</td>\n",
       "      <td>110</td>\n",
       "      <td>211</td>\n",
       "      <td>0</td>\n",
       "      <td>2</td>\n",
       "      <td>144</td>\n",
       "      <td>1</td>\n",
       "      <td>1.8</td>\n",
       "      <td>1</td>\n",
       "      <td>0</td>\n",
       "      <td>0</td>\n",
       "      <td>0</td>\n",
       "    </tr>\n",
       "    <tr>\n",
       "      <th>...</th>\n",
       "      <td>...</td>\n",
       "      <td>...</td>\n",
       "      <td>...</td>\n",
       "      <td>...</td>\n",
       "      <td>...</td>\n",
       "      <td>...</td>\n",
       "      <td>...</td>\n",
       "      <td>...</td>\n",
       "      <td>...</td>\n",
       "      <td>...</td>\n",
       "      <td>...</td>\n",
       "      <td>...</td>\n",
       "      <td>...</td>\n",
       "      <td>...</td>\n",
       "    </tr>\n",
       "    <tr>\n",
       "      <th>292</th>\n",
       "      <td>40</td>\n",
       "      <td>1</td>\n",
       "      <td>3</td>\n",
       "      <td>152</td>\n",
       "      <td>223</td>\n",
       "      <td>0</td>\n",
       "      <td>0</td>\n",
       "      <td>181</td>\n",
       "      <td>0</td>\n",
       "      <td>0.0</td>\n",
       "      <td>0</td>\n",
       "      <td>0</td>\n",
       "      <td>2</td>\n",
       "      <td>1</td>\n",
       "    </tr>\n",
       "    <tr>\n",
       "      <th>293</th>\n",
       "      <td>39</td>\n",
       "      <td>1</td>\n",
       "      <td>3</td>\n",
       "      <td>118</td>\n",
       "      <td>219</td>\n",
       "      <td>0</td>\n",
       "      <td>0</td>\n",
       "      <td>140</td>\n",
       "      <td>0</td>\n",
       "      <td>1.2</td>\n",
       "      <td>1</td>\n",
       "      <td>0</td>\n",
       "      <td>2</td>\n",
       "      <td>1</td>\n",
       "    </tr>\n",
       "    <tr>\n",
       "      <th>294</th>\n",
       "      <td>35</td>\n",
       "      <td>1</td>\n",
       "      <td>3</td>\n",
       "      <td>120</td>\n",
       "      <td>198</td>\n",
       "      <td>0</td>\n",
       "      <td>0</td>\n",
       "      <td>130</td>\n",
       "      <td>1</td>\n",
       "      <td>1.6</td>\n",
       "      <td>1</td>\n",
       "      <td>0</td>\n",
       "      <td>2</td>\n",
       "      <td>1</td>\n",
       "    </tr>\n",
       "    <tr>\n",
       "      <th>295</th>\n",
       "      <td>35</td>\n",
       "      <td>0</td>\n",
       "      <td>3</td>\n",
       "      <td>138</td>\n",
       "      <td>183</td>\n",
       "      <td>0</td>\n",
       "      <td>0</td>\n",
       "      <td>182</td>\n",
       "      <td>0</td>\n",
       "      <td>1.4</td>\n",
       "      <td>0</td>\n",
       "      <td>0</td>\n",
       "      <td>0</td>\n",
       "      <td>0</td>\n",
       "    </tr>\n",
       "    <tr>\n",
       "      <th>296</th>\n",
       "      <td>35</td>\n",
       "      <td>1</td>\n",
       "      <td>3</td>\n",
       "      <td>126</td>\n",
       "      <td>282</td>\n",
       "      <td>0</td>\n",
       "      <td>2</td>\n",
       "      <td>156</td>\n",
       "      <td>1</td>\n",
       "      <td>0.0</td>\n",
       "      <td>0</td>\n",
       "      <td>0</td>\n",
       "      <td>2</td>\n",
       "      <td>1</td>\n",
       "    </tr>\n",
       "  </tbody>\n",
       "</table>\n",
       "<p>297 rows × 14 columns</p>\n",
       "</div>"
      ],
      "text/plain": [
       "     age  sex  cp  trestbps  chol  fbs  restecg  thalach  exang  oldpeak  \\\n",
       "0     69    1   0       160   234    1        2      131      0      0.1   \n",
       "1     69    0   0       140   239    0        0      151      0      1.8   \n",
       "2     66    0   0       150   226    0        0      114      0      2.6   \n",
       "3     65    1   0       138   282    1        2      174      0      1.4   \n",
       "4     64    1   0       110   211    0        2      144      1      1.8   \n",
       "..   ...  ...  ..       ...   ...  ...      ...      ...    ...      ...   \n",
       "292   40    1   3       152   223    0        0      181      0      0.0   \n",
       "293   39    1   3       118   219    0        0      140      0      1.2   \n",
       "294   35    1   3       120   198    0        0      130      1      1.6   \n",
       "295   35    0   3       138   183    0        0      182      0      1.4   \n",
       "296   35    1   3       126   282    0        2      156      1      0.0   \n",
       "\n",
       "     slope  ca  thal  condition  \n",
       "0        1   1     0          0  \n",
       "1        0   2     0          0  \n",
       "2        2   0     0          0  \n",
       "3        1   1     0          1  \n",
       "4        1   0     0          0  \n",
       "..     ...  ..   ...        ...  \n",
       "292      0   0     2          1  \n",
       "293      1   0     2          1  \n",
       "294      1   0     2          1  \n",
       "295      0   0     0          0  \n",
       "296      0   0     2          1  \n",
       "\n",
       "[297 rows x 14 columns]"
      ]
     },
     "execution_count": 5,
     "metadata": {},
     "output_type": "execute_result"
    }
   ],
   "source": [
    "df"
   ]
  },
  {
   "cell_type": "markdown",
   "id": "9e77917a-380d-49e9-9a0a-74d5e2ddb2df",
   "metadata": {},
   "source": [
    "# Content Attributes"
   ]
  },
  {
   "cell_type": "markdown",
   "id": "5d34ef4b-0ee8-48c8-8614-2a5df3f93cdc",
   "metadata": {},
   "source": [
    "* age: age in years\n",
    "* sex: sex (1 = male; 0 = female)\n",
    "* cp: chest pain type\n",
    "    - Value 0: typical angina\n",
    "    - Value 1: atypical angina\n",
    "    - Value 2: non-anginal pain\n",
    "    - Value 3: asymptomatic\n",
    "* trestbps: resting blood pressure (in mm Hg on admission to the hospital)\n",
    "* chol: serum cholestoral in mg/dl\n",
    "* fbs: (fasting blood sugar > 120 mg/dl) (1 = true; 0 = false)\n",
    "* restecg: resting electrocardiographic results\n",
    "    - Value 0: normal\n",
    "    - Value 1: having ST-T wave abnormality (T wave inversions and/or ST elevation or depression of > 0.05 mV)\n",
    "    - Value 2: showing probable or definite left ventricular hypertrophy by Estes' criteria\n",
    "* thalach: maximum heart rate achieved\n",
    "* exang: exercise induced angina (1 = yes; 0 = no)\n",
    "* oldpeak = ST depression induced by exercise relative to rest\n",
    "* slope: the slope of the peak exercise ST segment\n",
    "    - Value 0: upsloping\n",
    "    - Value 1: flat\n",
    "    - Value 2: downsloping\n",
    "* ca: number of major vessels (0-3) colored by flourosopy\n",
    "* thal: 0 = normal; 1 = fixed defect; 2 = reversable defect and the label\n",
    "* condition: 0 = no disease, 1 = disease"
   ]
  },
  {
   "cell_type": "code",
   "execution_count": 6,
   "id": "6c4802f4-1dff-41f1-8bdd-3dc02be3cae8",
   "metadata": {},
   "outputs": [
    {
     "data": {
      "text/plain": [
       "(297, 14)"
      ]
     },
     "execution_count": 6,
     "metadata": {},
     "output_type": "execute_result"
    }
   ],
   "source": [
    "# Lets get the shape of the dataset\n",
    "df.shape"
   ]
  },
  {
   "cell_type": "markdown",
   "id": "1c01677b-1f0c-43e9-a825-273268c0621c",
   "metadata": {},
   "source": [
    "- The dataset has 14 columns and 297 rows\n",
    "- From the shape , we can see that the number of persons data provided is 297\n"
   ]
  },
  {
   "cell_type": "markdown",
   "id": "5379a914-0ebf-4530-beb4-0d5cf67089ce",
   "metadata": {},
   "source": [
    "# Data Preparation And Cleaning\n",
    "- Check For missing values"
   ]
  },
  {
   "cell_type": "code",
   "execution_count": 7,
   "id": "8defec15-43e6-41c2-a05a-183fbdbeca97",
   "metadata": {},
   "outputs": [
    {
     "data": {
      "text/html": [
       "<div>\n",
       "<style scoped>\n",
       "    .dataframe tbody tr th:only-of-type {\n",
       "        vertical-align: middle;\n",
       "    }\n",
       "\n",
       "    .dataframe tbody tr th {\n",
       "        vertical-align: top;\n",
       "    }\n",
       "\n",
       "    .dataframe thead th {\n",
       "        text-align: right;\n",
       "    }\n",
       "</style>\n",
       "<table border=\"1\" class=\"dataframe\">\n",
       "  <thead>\n",
       "    <tr style=\"text-align: right;\">\n",
       "      <th></th>\n",
       "      <th>age</th>\n",
       "      <th>sex</th>\n",
       "      <th>cp</th>\n",
       "      <th>trestbps</th>\n",
       "      <th>chol</th>\n",
       "      <th>fbs</th>\n",
       "      <th>restecg</th>\n",
       "      <th>thalach</th>\n",
       "      <th>exang</th>\n",
       "      <th>oldpeak</th>\n",
       "      <th>slope</th>\n",
       "      <th>ca</th>\n",
       "      <th>thal</th>\n",
       "      <th>condition</th>\n",
       "    </tr>\n",
       "  </thead>\n",
       "  <tbody>\n",
       "    <tr>\n",
       "      <th>0</th>\n",
       "      <td>False</td>\n",
       "      <td>False</td>\n",
       "      <td>False</td>\n",
       "      <td>False</td>\n",
       "      <td>False</td>\n",
       "      <td>False</td>\n",
       "      <td>False</td>\n",
       "      <td>False</td>\n",
       "      <td>False</td>\n",
       "      <td>False</td>\n",
       "      <td>False</td>\n",
       "      <td>False</td>\n",
       "      <td>False</td>\n",
       "      <td>False</td>\n",
       "    </tr>\n",
       "    <tr>\n",
       "      <th>1</th>\n",
       "      <td>False</td>\n",
       "      <td>False</td>\n",
       "      <td>False</td>\n",
       "      <td>False</td>\n",
       "      <td>False</td>\n",
       "      <td>False</td>\n",
       "      <td>False</td>\n",
       "      <td>False</td>\n",
       "      <td>False</td>\n",
       "      <td>False</td>\n",
       "      <td>False</td>\n",
       "      <td>False</td>\n",
       "      <td>False</td>\n",
       "      <td>False</td>\n",
       "    </tr>\n",
       "    <tr>\n",
       "      <th>2</th>\n",
       "      <td>False</td>\n",
       "      <td>False</td>\n",
       "      <td>False</td>\n",
       "      <td>False</td>\n",
       "      <td>False</td>\n",
       "      <td>False</td>\n",
       "      <td>False</td>\n",
       "      <td>False</td>\n",
       "      <td>False</td>\n",
       "      <td>False</td>\n",
       "      <td>False</td>\n",
       "      <td>False</td>\n",
       "      <td>False</td>\n",
       "      <td>False</td>\n",
       "    </tr>\n",
       "    <tr>\n",
       "      <th>3</th>\n",
       "      <td>False</td>\n",
       "      <td>False</td>\n",
       "      <td>False</td>\n",
       "      <td>False</td>\n",
       "      <td>False</td>\n",
       "      <td>False</td>\n",
       "      <td>False</td>\n",
       "      <td>False</td>\n",
       "      <td>False</td>\n",
       "      <td>False</td>\n",
       "      <td>False</td>\n",
       "      <td>False</td>\n",
       "      <td>False</td>\n",
       "      <td>False</td>\n",
       "    </tr>\n",
       "    <tr>\n",
       "      <th>4</th>\n",
       "      <td>False</td>\n",
       "      <td>False</td>\n",
       "      <td>False</td>\n",
       "      <td>False</td>\n",
       "      <td>False</td>\n",
       "      <td>False</td>\n",
       "      <td>False</td>\n",
       "      <td>False</td>\n",
       "      <td>False</td>\n",
       "      <td>False</td>\n",
       "      <td>False</td>\n",
       "      <td>False</td>\n",
       "      <td>False</td>\n",
       "      <td>False</td>\n",
       "    </tr>\n",
       "    <tr>\n",
       "      <th>...</th>\n",
       "      <td>...</td>\n",
       "      <td>...</td>\n",
       "      <td>...</td>\n",
       "      <td>...</td>\n",
       "      <td>...</td>\n",
       "      <td>...</td>\n",
       "      <td>...</td>\n",
       "      <td>...</td>\n",
       "      <td>...</td>\n",
       "      <td>...</td>\n",
       "      <td>...</td>\n",
       "      <td>...</td>\n",
       "      <td>...</td>\n",
       "      <td>...</td>\n",
       "    </tr>\n",
       "    <tr>\n",
       "      <th>292</th>\n",
       "      <td>False</td>\n",
       "      <td>False</td>\n",
       "      <td>False</td>\n",
       "      <td>False</td>\n",
       "      <td>False</td>\n",
       "      <td>False</td>\n",
       "      <td>False</td>\n",
       "      <td>False</td>\n",
       "      <td>False</td>\n",
       "      <td>False</td>\n",
       "      <td>False</td>\n",
       "      <td>False</td>\n",
       "      <td>False</td>\n",
       "      <td>False</td>\n",
       "    </tr>\n",
       "    <tr>\n",
       "      <th>293</th>\n",
       "      <td>False</td>\n",
       "      <td>False</td>\n",
       "      <td>False</td>\n",
       "      <td>False</td>\n",
       "      <td>False</td>\n",
       "      <td>False</td>\n",
       "      <td>False</td>\n",
       "      <td>False</td>\n",
       "      <td>False</td>\n",
       "      <td>False</td>\n",
       "      <td>False</td>\n",
       "      <td>False</td>\n",
       "      <td>False</td>\n",
       "      <td>False</td>\n",
       "    </tr>\n",
       "    <tr>\n",
       "      <th>294</th>\n",
       "      <td>False</td>\n",
       "      <td>False</td>\n",
       "      <td>False</td>\n",
       "      <td>False</td>\n",
       "      <td>False</td>\n",
       "      <td>False</td>\n",
       "      <td>False</td>\n",
       "      <td>False</td>\n",
       "      <td>False</td>\n",
       "      <td>False</td>\n",
       "      <td>False</td>\n",
       "      <td>False</td>\n",
       "      <td>False</td>\n",
       "      <td>False</td>\n",
       "    </tr>\n",
       "    <tr>\n",
       "      <th>295</th>\n",
       "      <td>False</td>\n",
       "      <td>False</td>\n",
       "      <td>False</td>\n",
       "      <td>False</td>\n",
       "      <td>False</td>\n",
       "      <td>False</td>\n",
       "      <td>False</td>\n",
       "      <td>False</td>\n",
       "      <td>False</td>\n",
       "      <td>False</td>\n",
       "      <td>False</td>\n",
       "      <td>False</td>\n",
       "      <td>False</td>\n",
       "      <td>False</td>\n",
       "    </tr>\n",
       "    <tr>\n",
       "      <th>296</th>\n",
       "      <td>False</td>\n",
       "      <td>False</td>\n",
       "      <td>False</td>\n",
       "      <td>False</td>\n",
       "      <td>False</td>\n",
       "      <td>False</td>\n",
       "      <td>False</td>\n",
       "      <td>False</td>\n",
       "      <td>False</td>\n",
       "      <td>False</td>\n",
       "      <td>False</td>\n",
       "      <td>False</td>\n",
       "      <td>False</td>\n",
       "      <td>False</td>\n",
       "    </tr>\n",
       "  </tbody>\n",
       "</table>\n",
       "<p>297 rows × 14 columns</p>\n",
       "</div>"
      ],
      "text/plain": [
       "       age    sex     cp  trestbps   chol    fbs  restecg  thalach  exang  \\\n",
       "0    False  False  False     False  False  False    False    False  False   \n",
       "1    False  False  False     False  False  False    False    False  False   \n",
       "2    False  False  False     False  False  False    False    False  False   \n",
       "3    False  False  False     False  False  False    False    False  False   \n",
       "4    False  False  False     False  False  False    False    False  False   \n",
       "..     ...    ...    ...       ...    ...    ...      ...      ...    ...   \n",
       "292  False  False  False     False  False  False    False    False  False   \n",
       "293  False  False  False     False  False  False    False    False  False   \n",
       "294  False  False  False     False  False  False    False    False  False   \n",
       "295  False  False  False     False  False  False    False    False  False   \n",
       "296  False  False  False     False  False  False    False    False  False   \n",
       "\n",
       "     oldpeak  slope     ca   thal  condition  \n",
       "0      False  False  False  False      False  \n",
       "1      False  False  False  False      False  \n",
       "2      False  False  False  False      False  \n",
       "3      False  False  False  False      False  \n",
       "4      False  False  False  False      False  \n",
       "..       ...    ...    ...    ...        ...  \n",
       "292    False  False  False  False      False  \n",
       "293    False  False  False  False      False  \n",
       "294    False  False  False  False      False  \n",
       "295    False  False  False  False      False  \n",
       "296    False  False  False  False      False  \n",
       "\n",
       "[297 rows x 14 columns]"
      ]
     },
     "execution_count": 7,
     "metadata": {},
     "output_type": "execute_result"
    }
   ],
   "source": [
    "df.isnull()"
   ]
  },
  {
   "cell_type": "code",
   "execution_count": 8,
   "id": "a0abb8f8-b157-4938-887d-038603ff2db1",
   "metadata": {},
   "outputs": [
    {
     "data": {
      "text/plain": [
       "age          0\n",
       "sex          0\n",
       "cp           0\n",
       "trestbps     0\n",
       "chol         0\n",
       "fbs          0\n",
       "restecg      0\n",
       "thalach      0\n",
       "exang        0\n",
       "oldpeak      0\n",
       "slope        0\n",
       "ca           0\n",
       "thal         0\n",
       "condition    0\n",
       "dtype: int64"
      ]
     },
     "execution_count": 8,
     "metadata": {},
     "output_type": "execute_result"
    }
   ],
   "source": [
    "df.isnull().sum()"
   ]
  },
  {
   "cell_type": "markdown",
   "id": "96c26e38-7d5c-433f-b595-a6756201a13b",
   "metadata": {},
   "source": [
    "We can confirm that there is no missing values"
   ]
  },
  {
   "cell_type": "markdown",
   "id": "9e8519d0-0df7-46ae-9ca1-da4ea0ddf864",
   "metadata": {},
   "source": [
    "- Check for duplicate values"
   ]
  },
  {
   "cell_type": "code",
   "execution_count": 9,
   "id": "9bda3464-0aa2-4750-ba38-2b7ad360a0ec",
   "metadata": {},
   "outputs": [
    {
     "data": {
      "text/plain": [
       "False"
      ]
     },
     "execution_count": 9,
     "metadata": {},
     "output_type": "execute_result"
    }
   ],
   "source": [
    "df.duplicated().any()"
   ]
  },
  {
   "cell_type": "code",
   "execution_count": 10,
   "id": "a477cc42-5e7f-42da-a428-5449418d38ac",
   "metadata": {},
   "outputs": [],
   "source": [
    "df.drop_duplicates(inplace = True)"
   ]
  },
  {
   "cell_type": "code",
   "execution_count": 11,
   "id": "87f46d9f-1a3c-49dd-a477-7fb02c8d4dff",
   "metadata": {},
   "outputs": [
    {
     "data": {
      "text/plain": [
       "(297, 14)"
      ]
     },
     "execution_count": 11,
     "metadata": {},
     "output_type": "execute_result"
    }
   ],
   "source": [
    "df.shape"
   ]
  },
  {
   "cell_type": "markdown",
   "id": "c6f02e53-7cc8-4508-96dd-4537f549ddf8",
   "metadata": {},
   "source": [
    "- The Dataset is clean as there are no missing values and duplicate values"
   ]
  },
  {
   "cell_type": "code",
   "execution_count": 12,
   "id": "6548d040-6e58-4ecd-9670-347a29a65a01",
   "metadata": {},
   "outputs": [
    {
     "data": {
      "text/plain": [
       "age            int64\n",
       "sex            int64\n",
       "cp             int64\n",
       "trestbps       int64\n",
       "chol           int64\n",
       "fbs            int64\n",
       "restecg        int64\n",
       "thalach        int64\n",
       "exang          int64\n",
       "oldpeak      float64\n",
       "slope          int64\n",
       "ca             int64\n",
       "thal           int64\n",
       "condition      int64\n",
       "dtype: object"
      ]
     },
     "execution_count": 12,
     "metadata": {},
     "output_type": "execute_result"
    }
   ],
   "source": [
    "df.dtypes"
   ]
  },
  {
   "cell_type": "code",
   "execution_count": 13,
   "id": "e8e9e427-15eb-4baf-9513-a5fc46899ee2",
   "metadata": {},
   "outputs": [
    {
     "data": {
      "text/html": [
       "<div>\n",
       "<style scoped>\n",
       "    .dataframe tbody tr th:only-of-type {\n",
       "        vertical-align: middle;\n",
       "    }\n",
       "\n",
       "    .dataframe tbody tr th {\n",
       "        vertical-align: top;\n",
       "    }\n",
       "\n",
       "    .dataframe thead th {\n",
       "        text-align: right;\n",
       "    }\n",
       "</style>\n",
       "<table border=\"1\" class=\"dataframe\">\n",
       "  <thead>\n",
       "    <tr style=\"text-align: right;\">\n",
       "      <th></th>\n",
       "      <th>age</th>\n",
       "      <th>sex</th>\n",
       "      <th>cp</th>\n",
       "      <th>trestbps</th>\n",
       "      <th>chol</th>\n",
       "      <th>fbs</th>\n",
       "      <th>restecg</th>\n",
       "      <th>thalach</th>\n",
       "      <th>exang</th>\n",
       "      <th>oldpeak</th>\n",
       "      <th>slope</th>\n",
       "      <th>ca</th>\n",
       "      <th>thal</th>\n",
       "      <th>condition</th>\n",
       "    </tr>\n",
       "  </thead>\n",
       "  <tbody>\n",
       "    <tr>\n",
       "      <th>count</th>\n",
       "      <td>297.0000</td>\n",
       "      <td>297.0000</td>\n",
       "      <td>297.0000</td>\n",
       "      <td>297.0000</td>\n",
       "      <td>297.0000</td>\n",
       "      <td>297.0000</td>\n",
       "      <td>297.0000</td>\n",
       "      <td>297.0000</td>\n",
       "      <td>297.0000</td>\n",
       "      <td>297.0000</td>\n",
       "      <td>297.0000</td>\n",
       "      <td>297.0000</td>\n",
       "      <td>297.0000</td>\n",
       "      <td>297.0000</td>\n",
       "    </tr>\n",
       "    <tr>\n",
       "      <th>mean</th>\n",
       "      <td>54.5421</td>\n",
       "      <td>0.6768</td>\n",
       "      <td>2.1582</td>\n",
       "      <td>131.6936</td>\n",
       "      <td>247.3502</td>\n",
       "      <td>0.1448</td>\n",
       "      <td>0.9966</td>\n",
       "      <td>149.5993</td>\n",
       "      <td>0.3266</td>\n",
       "      <td>1.0556</td>\n",
       "      <td>0.6027</td>\n",
       "      <td>0.6768</td>\n",
       "      <td>0.8350</td>\n",
       "      <td>0.4613</td>\n",
       "    </tr>\n",
       "    <tr>\n",
       "      <th>std</th>\n",
       "      <td>9.0497</td>\n",
       "      <td>0.4685</td>\n",
       "      <td>0.9649</td>\n",
       "      <td>17.7628</td>\n",
       "      <td>51.9976</td>\n",
       "      <td>0.3525</td>\n",
       "      <td>0.9949</td>\n",
       "      <td>22.9416</td>\n",
       "      <td>0.4698</td>\n",
       "      <td>1.1661</td>\n",
       "      <td>0.6182</td>\n",
       "      <td>0.9390</td>\n",
       "      <td>0.9567</td>\n",
       "      <td>0.4993</td>\n",
       "    </tr>\n",
       "    <tr>\n",
       "      <th>min</th>\n",
       "      <td>29.0000</td>\n",
       "      <td>0.0000</td>\n",
       "      <td>0.0000</td>\n",
       "      <td>94.0000</td>\n",
       "      <td>126.0000</td>\n",
       "      <td>0.0000</td>\n",
       "      <td>0.0000</td>\n",
       "      <td>71.0000</td>\n",
       "      <td>0.0000</td>\n",
       "      <td>0.0000</td>\n",
       "      <td>0.0000</td>\n",
       "      <td>0.0000</td>\n",
       "      <td>0.0000</td>\n",
       "      <td>0.0000</td>\n",
       "    </tr>\n",
       "    <tr>\n",
       "      <th>25%</th>\n",
       "      <td>48.0000</td>\n",
       "      <td>0.0000</td>\n",
       "      <td>2.0000</td>\n",
       "      <td>120.0000</td>\n",
       "      <td>211.0000</td>\n",
       "      <td>0.0000</td>\n",
       "      <td>0.0000</td>\n",
       "      <td>133.0000</td>\n",
       "      <td>0.0000</td>\n",
       "      <td>0.0000</td>\n",
       "      <td>0.0000</td>\n",
       "      <td>0.0000</td>\n",
       "      <td>0.0000</td>\n",
       "      <td>0.0000</td>\n",
       "    </tr>\n",
       "    <tr>\n",
       "      <th>50%</th>\n",
       "      <td>56.0000</td>\n",
       "      <td>1.0000</td>\n",
       "      <td>2.0000</td>\n",
       "      <td>130.0000</td>\n",
       "      <td>243.0000</td>\n",
       "      <td>0.0000</td>\n",
       "      <td>1.0000</td>\n",
       "      <td>153.0000</td>\n",
       "      <td>0.0000</td>\n",
       "      <td>0.8000</td>\n",
       "      <td>1.0000</td>\n",
       "      <td>0.0000</td>\n",
       "      <td>0.0000</td>\n",
       "      <td>0.0000</td>\n",
       "    </tr>\n",
       "    <tr>\n",
       "      <th>75%</th>\n",
       "      <td>61.0000</td>\n",
       "      <td>1.0000</td>\n",
       "      <td>3.0000</td>\n",
       "      <td>140.0000</td>\n",
       "      <td>276.0000</td>\n",
       "      <td>0.0000</td>\n",
       "      <td>2.0000</td>\n",
       "      <td>166.0000</td>\n",
       "      <td>1.0000</td>\n",
       "      <td>1.6000</td>\n",
       "      <td>1.0000</td>\n",
       "      <td>1.0000</td>\n",
       "      <td>2.0000</td>\n",
       "      <td>1.0000</td>\n",
       "    </tr>\n",
       "    <tr>\n",
       "      <th>max</th>\n",
       "      <td>77.0000</td>\n",
       "      <td>1.0000</td>\n",
       "      <td>3.0000</td>\n",
       "      <td>200.0000</td>\n",
       "      <td>564.0000</td>\n",
       "      <td>1.0000</td>\n",
       "      <td>2.0000</td>\n",
       "      <td>202.0000</td>\n",
       "      <td>1.0000</td>\n",
       "      <td>6.2000</td>\n",
       "      <td>2.0000</td>\n",
       "      <td>3.0000</td>\n",
       "      <td>2.0000</td>\n",
       "      <td>1.0000</td>\n",
       "    </tr>\n",
       "  </tbody>\n",
       "</table>\n",
       "</div>"
      ],
      "text/plain": [
       "            age       sex        cp  trestbps      chol       fbs   restecg  \\\n",
       "count  297.0000  297.0000  297.0000  297.0000  297.0000  297.0000  297.0000   \n",
       "mean    54.5421    0.6768    2.1582  131.6936  247.3502    0.1448    0.9966   \n",
       "std      9.0497    0.4685    0.9649   17.7628   51.9976    0.3525    0.9949   \n",
       "min     29.0000    0.0000    0.0000   94.0000  126.0000    0.0000    0.0000   \n",
       "25%     48.0000    0.0000    2.0000  120.0000  211.0000    0.0000    0.0000   \n",
       "50%     56.0000    1.0000    2.0000  130.0000  243.0000    0.0000    1.0000   \n",
       "75%     61.0000    1.0000    3.0000  140.0000  276.0000    0.0000    2.0000   \n",
       "max     77.0000    1.0000    3.0000  200.0000  564.0000    1.0000    2.0000   \n",
       "\n",
       "        thalach     exang   oldpeak     slope        ca      thal  condition  \n",
       "count  297.0000  297.0000  297.0000  297.0000  297.0000  297.0000   297.0000  \n",
       "mean   149.5993    0.3266    1.0556    0.6027    0.6768    0.8350     0.4613  \n",
       "std     22.9416    0.4698    1.1661    0.6182    0.9390    0.9567     0.4993  \n",
       "min     71.0000    0.0000    0.0000    0.0000    0.0000    0.0000     0.0000  \n",
       "25%    133.0000    0.0000    0.0000    0.0000    0.0000    0.0000     0.0000  \n",
       "50%    153.0000    0.0000    0.8000    1.0000    0.0000    0.0000     0.0000  \n",
       "75%    166.0000    1.0000    1.6000    1.0000    1.0000    2.0000     1.0000  \n",
       "max    202.0000    1.0000    6.2000    2.0000    3.0000    2.0000     1.0000  "
      ]
     },
     "execution_count": 13,
     "metadata": {},
     "output_type": "execute_result"
    }
   ],
   "source": [
    "df.describe().round(4)"
   ]
  },
  {
   "cell_type": "raw",
   "id": "b20233b0-7f01-4424-96cb-410420601262",
   "metadata": {},
   "source": [
    " Note\n",
    " Everthing looks okay with the data"
   ]
  },
  {
   "cell_type": "code",
   "execution_count": 14,
   "id": "ebc81333-544f-405e-b5f9-de67442d8972",
   "metadata": {},
   "outputs": [],
   "source": [
    "# now we drop the columns we don't need in the analysis\n",
    "df.drop(['trestbps', 'restecg' , 'thalach', 'oldpeak', 'slope', 'ca'],axis = 'columns',inplace = True)"
   ]
  },
  {
   "cell_type": "code",
   "execution_count": 15,
   "id": "44832c4e-d698-43fc-b3bf-12e7675d12ce",
   "metadata": {},
   "outputs": [
    {
     "data": {
      "text/html": [
       "<div>\n",
       "<style scoped>\n",
       "    .dataframe tbody tr th:only-of-type {\n",
       "        vertical-align: middle;\n",
       "    }\n",
       "\n",
       "    .dataframe tbody tr th {\n",
       "        vertical-align: top;\n",
       "    }\n",
       "\n",
       "    .dataframe thead th {\n",
       "        text-align: right;\n",
       "    }\n",
       "</style>\n",
       "<table border=\"1\" class=\"dataframe\">\n",
       "  <thead>\n",
       "    <tr style=\"text-align: right;\">\n",
       "      <th></th>\n",
       "      <th>age</th>\n",
       "      <th>sex</th>\n",
       "      <th>cp</th>\n",
       "      <th>chol</th>\n",
       "      <th>fbs</th>\n",
       "      <th>exang</th>\n",
       "      <th>thal</th>\n",
       "      <th>condition</th>\n",
       "    </tr>\n",
       "  </thead>\n",
       "  <tbody>\n",
       "    <tr>\n",
       "      <th>0</th>\n",
       "      <td>69</td>\n",
       "      <td>1</td>\n",
       "      <td>0</td>\n",
       "      <td>234</td>\n",
       "      <td>1</td>\n",
       "      <td>0</td>\n",
       "      <td>0</td>\n",
       "      <td>0</td>\n",
       "    </tr>\n",
       "    <tr>\n",
       "      <th>1</th>\n",
       "      <td>69</td>\n",
       "      <td>0</td>\n",
       "      <td>0</td>\n",
       "      <td>239</td>\n",
       "      <td>0</td>\n",
       "      <td>0</td>\n",
       "      <td>0</td>\n",
       "      <td>0</td>\n",
       "    </tr>\n",
       "    <tr>\n",
       "      <th>2</th>\n",
       "      <td>66</td>\n",
       "      <td>0</td>\n",
       "      <td>0</td>\n",
       "      <td>226</td>\n",
       "      <td>0</td>\n",
       "      <td>0</td>\n",
       "      <td>0</td>\n",
       "      <td>0</td>\n",
       "    </tr>\n",
       "    <tr>\n",
       "      <th>3</th>\n",
       "      <td>65</td>\n",
       "      <td>1</td>\n",
       "      <td>0</td>\n",
       "      <td>282</td>\n",
       "      <td>1</td>\n",
       "      <td>0</td>\n",
       "      <td>0</td>\n",
       "      <td>1</td>\n",
       "    </tr>\n",
       "    <tr>\n",
       "      <th>4</th>\n",
       "      <td>64</td>\n",
       "      <td>1</td>\n",
       "      <td>0</td>\n",
       "      <td>211</td>\n",
       "      <td>0</td>\n",
       "      <td>1</td>\n",
       "      <td>0</td>\n",
       "      <td>0</td>\n",
       "    </tr>\n",
       "    <tr>\n",
       "      <th>...</th>\n",
       "      <td>...</td>\n",
       "      <td>...</td>\n",
       "      <td>...</td>\n",
       "      <td>...</td>\n",
       "      <td>...</td>\n",
       "      <td>...</td>\n",
       "      <td>...</td>\n",
       "      <td>...</td>\n",
       "    </tr>\n",
       "    <tr>\n",
       "      <th>292</th>\n",
       "      <td>40</td>\n",
       "      <td>1</td>\n",
       "      <td>3</td>\n",
       "      <td>223</td>\n",
       "      <td>0</td>\n",
       "      <td>0</td>\n",
       "      <td>2</td>\n",
       "      <td>1</td>\n",
       "    </tr>\n",
       "    <tr>\n",
       "      <th>293</th>\n",
       "      <td>39</td>\n",
       "      <td>1</td>\n",
       "      <td>3</td>\n",
       "      <td>219</td>\n",
       "      <td>0</td>\n",
       "      <td>0</td>\n",
       "      <td>2</td>\n",
       "      <td>1</td>\n",
       "    </tr>\n",
       "    <tr>\n",
       "      <th>294</th>\n",
       "      <td>35</td>\n",
       "      <td>1</td>\n",
       "      <td>3</td>\n",
       "      <td>198</td>\n",
       "      <td>0</td>\n",
       "      <td>1</td>\n",
       "      <td>2</td>\n",
       "      <td>1</td>\n",
       "    </tr>\n",
       "    <tr>\n",
       "      <th>295</th>\n",
       "      <td>35</td>\n",
       "      <td>0</td>\n",
       "      <td>3</td>\n",
       "      <td>183</td>\n",
       "      <td>0</td>\n",
       "      <td>0</td>\n",
       "      <td>0</td>\n",
       "      <td>0</td>\n",
       "    </tr>\n",
       "    <tr>\n",
       "      <th>296</th>\n",
       "      <td>35</td>\n",
       "      <td>1</td>\n",
       "      <td>3</td>\n",
       "      <td>282</td>\n",
       "      <td>0</td>\n",
       "      <td>1</td>\n",
       "      <td>2</td>\n",
       "      <td>1</td>\n",
       "    </tr>\n",
       "  </tbody>\n",
       "</table>\n",
       "<p>297 rows × 8 columns</p>\n",
       "</div>"
      ],
      "text/plain": [
       "     age  sex  cp  chol  fbs  exang  thal  condition\n",
       "0     69    1   0   234    1      0     0          0\n",
       "1     69    0   0   239    0      0     0          0\n",
       "2     66    0   0   226    0      0     0          0\n",
       "3     65    1   0   282    1      0     0          1\n",
       "4     64    1   0   211    0      1     0          0\n",
       "..   ...  ...  ..   ...  ...    ...   ...        ...\n",
       "292   40    1   3   223    0      0     2          1\n",
       "293   39    1   3   219    0      0     2          1\n",
       "294   35    1   3   198    0      1     2          1\n",
       "295   35    0   3   183    0      0     0          0\n",
       "296   35    1   3   282    0      1     2          1\n",
       "\n",
       "[297 rows x 8 columns]"
      ]
     },
     "execution_count": 15,
     "metadata": {},
     "output_type": "execute_result"
    }
   ],
   "source": [
    "df"
   ]
  },
  {
   "cell_type": "code",
   "execution_count": 16,
   "id": "1e95db1c-91bb-4753-9c64-8dd17872bfff",
   "metadata": {},
   "outputs": [
    {
     "data": {
      "text/plain": [
       "(297, 8)"
      ]
     },
     "execution_count": 16,
     "metadata": {},
     "output_type": "execute_result"
    }
   ],
   "source": [
    "df.shape"
   ]
  },
  {
   "cell_type": "markdown",
   "id": "5a0d7797-fe8b-42f5-ab47-64b143722660",
   "metadata": {},
   "source": [
    "* We have cleaned and processed the dataset\n",
    "* now we have 297 rows and 8 columns"
   ]
  },
  {
   "cell_type": "code",
   "execution_count": 17,
   "id": "3e0a6e03-9884-41a0-8336-1cbf2fd23110",
   "metadata": {},
   "outputs": [
    {
     "data": {
      "text/html": [
       "<div>\n",
       "<style scoped>\n",
       "    .dataframe tbody tr th:only-of-type {\n",
       "        vertical-align: middle;\n",
       "    }\n",
       "\n",
       "    .dataframe tbody tr th {\n",
       "        vertical-align: top;\n",
       "    }\n",
       "\n",
       "    .dataframe thead th {\n",
       "        text-align: right;\n",
       "    }\n",
       "</style>\n",
       "<table border=\"1\" class=\"dataframe\">\n",
       "  <thead>\n",
       "    <tr style=\"text-align: right;\">\n",
       "      <th></th>\n",
       "      <th>age</th>\n",
       "      <th>sex</th>\n",
       "      <th>cp</th>\n",
       "      <th>chol</th>\n",
       "      <th>fbs</th>\n",
       "      <th>exang</th>\n",
       "      <th>thal</th>\n",
       "      <th>condition</th>\n",
       "    </tr>\n",
       "  </thead>\n",
       "  <tbody>\n",
       "    <tr>\n",
       "      <th>count</th>\n",
       "      <td>297.00</td>\n",
       "      <td>297.00</td>\n",
       "      <td>297.00</td>\n",
       "      <td>297.00</td>\n",
       "      <td>297.00</td>\n",
       "      <td>297.00</td>\n",
       "      <td>297.00</td>\n",
       "      <td>297.00</td>\n",
       "    </tr>\n",
       "    <tr>\n",
       "      <th>mean</th>\n",
       "      <td>54.54</td>\n",
       "      <td>0.68</td>\n",
       "      <td>2.16</td>\n",
       "      <td>247.35</td>\n",
       "      <td>0.14</td>\n",
       "      <td>0.33</td>\n",
       "      <td>0.84</td>\n",
       "      <td>0.46</td>\n",
       "    </tr>\n",
       "    <tr>\n",
       "      <th>std</th>\n",
       "      <td>9.05</td>\n",
       "      <td>0.47</td>\n",
       "      <td>0.96</td>\n",
       "      <td>52.00</td>\n",
       "      <td>0.35</td>\n",
       "      <td>0.47</td>\n",
       "      <td>0.96</td>\n",
       "      <td>0.50</td>\n",
       "    </tr>\n",
       "    <tr>\n",
       "      <th>min</th>\n",
       "      <td>29.00</td>\n",
       "      <td>0.00</td>\n",
       "      <td>0.00</td>\n",
       "      <td>126.00</td>\n",
       "      <td>0.00</td>\n",
       "      <td>0.00</td>\n",
       "      <td>0.00</td>\n",
       "      <td>0.00</td>\n",
       "    </tr>\n",
       "    <tr>\n",
       "      <th>25%</th>\n",
       "      <td>48.00</td>\n",
       "      <td>0.00</td>\n",
       "      <td>2.00</td>\n",
       "      <td>211.00</td>\n",
       "      <td>0.00</td>\n",
       "      <td>0.00</td>\n",
       "      <td>0.00</td>\n",
       "      <td>0.00</td>\n",
       "    </tr>\n",
       "    <tr>\n",
       "      <th>50%</th>\n",
       "      <td>56.00</td>\n",
       "      <td>1.00</td>\n",
       "      <td>2.00</td>\n",
       "      <td>243.00</td>\n",
       "      <td>0.00</td>\n",
       "      <td>0.00</td>\n",
       "      <td>0.00</td>\n",
       "      <td>0.00</td>\n",
       "    </tr>\n",
       "    <tr>\n",
       "      <th>75%</th>\n",
       "      <td>61.00</td>\n",
       "      <td>1.00</td>\n",
       "      <td>3.00</td>\n",
       "      <td>276.00</td>\n",
       "      <td>0.00</td>\n",
       "      <td>1.00</td>\n",
       "      <td>2.00</td>\n",
       "      <td>1.00</td>\n",
       "    </tr>\n",
       "    <tr>\n",
       "      <th>max</th>\n",
       "      <td>77.00</td>\n",
       "      <td>1.00</td>\n",
       "      <td>3.00</td>\n",
       "      <td>564.00</td>\n",
       "      <td>1.00</td>\n",
       "      <td>1.00</td>\n",
       "      <td>2.00</td>\n",
       "      <td>1.00</td>\n",
       "    </tr>\n",
       "  </tbody>\n",
       "</table>\n",
       "</div>"
      ],
      "text/plain": [
       "          age     sex      cp    chol     fbs   exang    thal  condition\n",
       "count  297.00  297.00  297.00  297.00  297.00  297.00  297.00     297.00\n",
       "mean    54.54    0.68    2.16  247.35    0.14    0.33    0.84       0.46\n",
       "std      9.05    0.47    0.96   52.00    0.35    0.47    0.96       0.50\n",
       "min     29.00    0.00    0.00  126.00    0.00    0.00    0.00       0.00\n",
       "25%     48.00    0.00    2.00  211.00    0.00    0.00    0.00       0.00\n",
       "50%     56.00    1.00    2.00  243.00    0.00    0.00    0.00       0.00\n",
       "75%     61.00    1.00    3.00  276.00    0.00    1.00    2.00       1.00\n",
       "max     77.00    1.00    3.00  564.00    1.00    1.00    2.00       1.00"
      ]
     },
     "execution_count": 17,
     "metadata": {},
     "output_type": "execute_result"
    }
   ],
   "source": [
    "# lets get more insight from the data\n",
    "df.describe().round(2)"
   ]
  },
  {
   "cell_type": "code",
   "execution_count": 18,
   "id": "473c6646-f678-4d59-9c7f-026f22587b01",
   "metadata": {},
   "outputs": [
    {
     "data": {
      "text/plain": [
       "77"
      ]
     },
     "execution_count": 18,
     "metadata": {},
     "output_type": "execute_result"
    }
   ],
   "source": [
    "# lets get the maximum and minimum age\n",
    "df.age.max()"
   ]
  },
  {
   "cell_type": "code",
   "execution_count": 19,
   "id": "943bb736-4f1b-42e1-b862-906114774cd8",
   "metadata": {},
   "outputs": [
    {
     "data": {
      "text/plain": [
       "29"
      ]
     },
     "execution_count": 19,
     "metadata": {},
     "output_type": "execute_result"
    }
   ],
   "source": [
    "df.age.min()"
   ]
  },
  {
   "cell_type": "code",
   "execution_count": 20,
   "id": "aebeebbb-73d6-449c-ad79-1cb91afb476f",
   "metadata": {},
   "outputs": [],
   "source": [
    "# Even from the statistical description, the minimum and maximum age where \n",
    "# already given so it was needless to calculate again."
   ]
  },
  {
   "cell_type": "markdown",
   "id": "e13de54c-c13e-4080-b419-3bf37d938ba2",
   "metadata": {},
   "source": [
    "# Insights From The Data \n",
    "------"
   ]
  },
  {
   "cell_type": "markdown",
   "id": "5a1a2f15-21e2-42b5-aed3-5ad2150b798f",
   "metadata": {},
   "source": [
    "1. from the statistical description, the admitted patients are from the age 29 years to 77 years old\n",
    "2. Mean of condition is 0.46 which means approximately around 135 - 140 patients have disease\n",
    "3. The data types of this particular dataset is int64\n",
    "------"
   ]
  },
  {
   "cell_type": "markdown",
   "id": "e73c4767-b79c-4137-a6f4-d7d10bad0b02",
   "metadata": {},
   "source": [
    "##  Question \n",
    "------\n",
    "1. The age distribution of patients with heart disease\n",
    "2. The age distribution with the highest cases of heart disease and what type of heart disease they are experiencing\n",
    "3. The gender with the highest cases of heart disease\n",
    "4. The total number of patients distingushed by their sex\n",
    "5. Chest pain that result in heart attack\n",
    "------"
   ]
  },
  {
   "cell_type": "markdown",
   "id": "f4139c4a-d898-4b64-8245-5e6b4a218fd9",
   "metadata": {},
   "source": [
    "## Data Visualization"
   ]
  },
  {
   "cell_type": "code",
   "execution_count": 21,
   "id": "78de463d-d5eb-41c1-ba4d-8b68e7f85294",
   "metadata": {},
   "outputs": [
    {
     "data": {
      "image/png": "[encoded data removed]",
      "text/plain": [
       "<Figure size 576x432 with 1 Axes>"
      ]
     },
     "metadata": {},
     "output_type": "display_data"
    }
   ],
   "source": [
    "# lets the check the patient data\n",
    "plt.figure(figsize = (8,6))\n",
    "clabel = [df.condition.value_counts()[0],df.condition.value_counts()[1]]\n",
    "df.condition.value_counts().plot(kind = 'pie',labels = clabel, autopct = '%.1f%%', colors = ['#ff7722', '#2E86C1'])\n",
    "plt.title(\"Fig-1: Patient's Condition\",loc = 'left')\n",
    "plt.legend(['No-Disease', 'Disease'], loc = 'upper right')\n",
    "plt.show()"
   ]
  },
  {
   "cell_type": "markdown",
   "id": "dc451fed-c041-4e7c-9b41-744c0d942d98",
   "metadata": {},
   "source": [
    "The **Pie Chart** shows that\n",
    "* 46.1% of the patients have heart disease\n",
    "* out of 297 people 137 have heart disease\n",
    "* while 160 are safe with no sign of heart disease"
   ]
  },
  {
   "cell_type": "markdown",
   "id": "4143fdad-be64-45b1-b059-5ead6903ae02",
   "metadata": {},
   "source": [
    "# Q.1&2 Age Distribution of patients with heart disease "
   ]
  },
  {
   "cell_type": "code",
   "execution_count": 22,
   "id": "e3d1b180-2ddc-44d2-8030-66b717f1f15e",
   "metadata": {},
   "outputs": [],
   "source": [
    "\n",
    "def age_group(binn):\n",
    "    if binn.age >= 70: \n",
    "        return '70s'\n",
    "    elif binn.age >=60:       \n",
    "        return '60s'\n",
    "    elif binn.age >=50:\n",
    "        return '50s'\n",
    "    elif binn.age >=40:\n",
    "        return '40s'\n",
    "    elif binn.age >=30: \n",
    "        return '30s'\n",
    "    elif binn.age >=20:\n",
    "        return '20s'\n",
    "df['Age_group'] = df.apply(age_group,axis = 1)\n",
    " "
   ]
  },
  {
   "cell_type": "code",
   "execution_count": 23,
   "id": "ea21e292-30bd-45e7-9b9a-7775faee1a34",
   "metadata": {},
   "outputs": [
    {
     "data": {
      "text/html": [
       "<div>\n",
       "<style scoped>\n",
       "    .dataframe tbody tr th:only-of-type {\n",
       "        vertical-align: middle;\n",
       "    }\n",
       "\n",
       "    .dataframe tbody tr th {\n",
       "        vertical-align: top;\n",
       "    }\n",
       "\n",
       "    .dataframe thead th {\n",
       "        text-align: right;\n",
       "    }\n",
       "</style>\n",
       "<table border=\"1\" class=\"dataframe\">\n",
       "  <thead>\n",
       "    <tr style=\"text-align: right;\">\n",
       "      <th></th>\n",
       "      <th>age</th>\n",
       "      <th>sex</th>\n",
       "      <th>cp</th>\n",
       "      <th>chol</th>\n",
       "      <th>fbs</th>\n",
       "      <th>exang</th>\n",
       "      <th>thal</th>\n",
       "      <th>condition</th>\n",
       "      <th>Age_group</th>\n",
       "    </tr>\n",
       "  </thead>\n",
       "  <tbody>\n",
       "    <tr>\n",
       "      <th>0</th>\n",
       "      <td>69</td>\n",
       "      <td>1</td>\n",
       "      <td>0</td>\n",
       "      <td>234</td>\n",
       "      <td>1</td>\n",
       "      <td>0</td>\n",
       "      <td>0</td>\n",
       "      <td>0</td>\n",
       "      <td>60s</td>\n",
       "    </tr>\n",
       "    <tr>\n",
       "      <th>1</th>\n",
       "      <td>69</td>\n",
       "      <td>0</td>\n",
       "      <td>0</td>\n",
       "      <td>239</td>\n",
       "      <td>0</td>\n",
       "      <td>0</td>\n",
       "      <td>0</td>\n",
       "      <td>0</td>\n",
       "      <td>60s</td>\n",
       "    </tr>\n",
       "    <tr>\n",
       "      <th>2</th>\n",
       "      <td>66</td>\n",
       "      <td>0</td>\n",
       "      <td>0</td>\n",
       "      <td>226</td>\n",
       "      <td>0</td>\n",
       "      <td>0</td>\n",
       "      <td>0</td>\n",
       "      <td>0</td>\n",
       "      <td>60s</td>\n",
       "    </tr>\n",
       "    <tr>\n",
       "      <th>3</th>\n",
       "      <td>65</td>\n",
       "      <td>1</td>\n",
       "      <td>0</td>\n",
       "      <td>282</td>\n",
       "      <td>1</td>\n",
       "      <td>0</td>\n",
       "      <td>0</td>\n",
       "      <td>1</td>\n",
       "      <td>60s</td>\n",
       "    </tr>\n",
       "    <tr>\n",
       "      <th>4</th>\n",
       "      <td>64</td>\n",
       "      <td>1</td>\n",
       "      <td>0</td>\n",
       "      <td>211</td>\n",
       "      <td>0</td>\n",
       "      <td>1</td>\n",
       "      <td>0</td>\n",
       "      <td>0</td>\n",
       "      <td>60s</td>\n",
       "    </tr>\n",
       "  </tbody>\n",
       "</table>\n",
       "</div>"
      ],
      "text/plain": [
       "   age  sex  cp  chol  fbs  exang  thal  condition Age_group\n",
       "0   69    1   0   234    1      0     0          0       60s\n",
       "1   69    0   0   239    0      0     0          0       60s\n",
       "2   66    0   0   226    0      0     0          0       60s\n",
       "3   65    1   0   282    1      0     0          1       60s\n",
       "4   64    1   0   211    0      1     0          0       60s"
      ]
     },
     "execution_count": 23,
     "metadata": {},
     "output_type": "execute_result"
    }
   ],
   "source": [
    "df.head(5)"
   ]
  },
  {
   "cell_type": "code",
   "execution_count": 24,
   "id": "cb948338-9c79-4fe2-ba4f-de3f314bbb7a",
   "metadata": {},
   "outputs": [],
   "source": [
    "# to get the patients with heaty disease\n",
    "dfp = df.loc[df.condition ==1]"
   ]
  },
  {
   "cell_type": "code",
   "execution_count": 25,
   "id": "d1ea48b8-9c21-488d-9806-68358cb7d983",
   "metadata": {},
   "outputs": [
    {
     "data": {
      "text/html": [
       "<div>\n",
       "<style scoped>\n",
       "    .dataframe tbody tr th:only-of-type {\n",
       "        vertical-align: middle;\n",
       "    }\n",
       "\n",
       "    .dataframe tbody tr th {\n",
       "        vertical-align: top;\n",
       "    }\n",
       "\n",
       "    .dataframe thead th {\n",
       "        text-align: right;\n",
       "    }\n",
       "</style>\n",
       "<table border=\"1\" class=\"dataframe\">\n",
       "  <thead>\n",
       "    <tr style=\"text-align: right;\">\n",
       "      <th></th>\n",
       "      <th>age</th>\n",
       "      <th>sex</th>\n",
       "      <th>cp</th>\n",
       "      <th>chol</th>\n",
       "      <th>fbs</th>\n",
       "      <th>exang</th>\n",
       "      <th>thal</th>\n",
       "      <th>condition</th>\n",
       "      <th>Age_group</th>\n",
       "    </tr>\n",
       "  </thead>\n",
       "  <tbody>\n",
       "    <tr>\n",
       "      <th>3</th>\n",
       "      <td>65</td>\n",
       "      <td>1</td>\n",
       "      <td>0</td>\n",
       "      <td>282</td>\n",
       "      <td>1</td>\n",
       "      <td>0</td>\n",
       "      <td>0</td>\n",
       "      <td>1</td>\n",
       "      <td>60s</td>\n",
       "    </tr>\n",
       "    <tr>\n",
       "      <th>7</th>\n",
       "      <td>61</td>\n",
       "      <td>1</td>\n",
       "      <td>0</td>\n",
       "      <td>234</td>\n",
       "      <td>0</td>\n",
       "      <td>0</td>\n",
       "      <td>0</td>\n",
       "      <td>1</td>\n",
       "      <td>60s</td>\n",
       "    </tr>\n",
       "    <tr>\n",
       "      <th>10</th>\n",
       "      <td>59</td>\n",
       "      <td>1</td>\n",
       "      <td>0</td>\n",
       "      <td>288</td>\n",
       "      <td>0</td>\n",
       "      <td>0</td>\n",
       "      <td>2</td>\n",
       "      <td>1</td>\n",
       "      <td>50s</td>\n",
       "    </tr>\n",
       "    <tr>\n",
       "      <th>11</th>\n",
       "      <td>59</td>\n",
       "      <td>1</td>\n",
       "      <td>0</td>\n",
       "      <td>273</td>\n",
       "      <td>0</td>\n",
       "      <td>0</td>\n",
       "      <td>0</td>\n",
       "      <td>1</td>\n",
       "      <td>50s</td>\n",
       "    </tr>\n",
       "    <tr>\n",
       "      <th>12</th>\n",
       "      <td>59</td>\n",
       "      <td>1</td>\n",
       "      <td>0</td>\n",
       "      <td>204</td>\n",
       "      <td>0</td>\n",
       "      <td>0</td>\n",
       "      <td>0</td>\n",
       "      <td>1</td>\n",
       "      <td>50s</td>\n",
       "    </tr>\n",
       "    <tr>\n",
       "      <th>...</th>\n",
       "      <td>...</td>\n",
       "      <td>...</td>\n",
       "      <td>...</td>\n",
       "      <td>...</td>\n",
       "      <td>...</td>\n",
       "      <td>...</td>\n",
       "      <td>...</td>\n",
       "      <td>...</td>\n",
       "      <td>...</td>\n",
       "    </tr>\n",
       "    <tr>\n",
       "      <th>291</th>\n",
       "      <td>40</td>\n",
       "      <td>1</td>\n",
       "      <td>3</td>\n",
       "      <td>167</td>\n",
       "      <td>0</td>\n",
       "      <td>1</td>\n",
       "      <td>2</td>\n",
       "      <td>1</td>\n",
       "      <td>40s</td>\n",
       "    </tr>\n",
       "    <tr>\n",
       "      <th>292</th>\n",
       "      <td>40</td>\n",
       "      <td>1</td>\n",
       "      <td>3</td>\n",
       "      <td>223</td>\n",
       "      <td>0</td>\n",
       "      <td>0</td>\n",
       "      <td>2</td>\n",
       "      <td>1</td>\n",
       "      <td>40s</td>\n",
       "    </tr>\n",
       "    <tr>\n",
       "      <th>293</th>\n",
       "      <td>39</td>\n",
       "      <td>1</td>\n",
       "      <td>3</td>\n",
       "      <td>219</td>\n",
       "      <td>0</td>\n",
       "      <td>0</td>\n",
       "      <td>2</td>\n",
       "      <td>1</td>\n",
       "      <td>30s</td>\n",
       "    </tr>\n",
       "    <tr>\n",
       "      <th>294</th>\n",
       "      <td>35</td>\n",
       "      <td>1</td>\n",
       "      <td>3</td>\n",
       "      <td>198</td>\n",
       "      <td>0</td>\n",
       "      <td>1</td>\n",
       "      <td>2</td>\n",
       "      <td>1</td>\n",
       "      <td>30s</td>\n",
       "    </tr>\n",
       "    <tr>\n",
       "      <th>296</th>\n",
       "      <td>35</td>\n",
       "      <td>1</td>\n",
       "      <td>3</td>\n",
       "      <td>282</td>\n",
       "      <td>0</td>\n",
       "      <td>1</td>\n",
       "      <td>2</td>\n",
       "      <td>1</td>\n",
       "      <td>30s</td>\n",
       "    </tr>\n",
       "  </tbody>\n",
       "</table>\n",
       "<p>137 rows × 9 columns</p>\n",
       "</div>"
      ],
      "text/plain": [
       "     age  sex  cp  chol  fbs  exang  thal  condition Age_group\n",
       "3     65    1   0   282    1      0     0          1       60s\n",
       "7     61    1   0   234    0      0     0          1       60s\n",
       "10    59    1   0   288    0      0     2          1       50s\n",
       "11    59    1   0   273    0      0     0          1       50s\n",
       "12    59    1   0   204    0      0     0          1       50s\n",
       "..   ...  ...  ..   ...  ...    ...   ...        ...       ...\n",
       "291   40    1   3   167    0      1     2          1       40s\n",
       "292   40    1   3   223    0      0     2          1       40s\n",
       "293   39    1   3   219    0      0     2          1       30s\n",
       "294   35    1   3   198    0      1     2          1       30s\n",
       "296   35    1   3   282    0      1     2          1       30s\n",
       "\n",
       "[137 rows x 9 columns]"
      ]
     },
     "execution_count": 25,
     "metadata": {},
     "output_type": "execute_result"
    }
   ],
   "source": [
    "dfp"
   ]
  },
  {
   "cell_type": "code",
   "execution_count": 26,
   "id": "9bd484c0-0b9d-4db1-9593-1fe953415ded",
   "metadata": {},
   "outputs": [],
   "source": [
    "# create a dataframe with the total number of patients of all age groups\n",
    "#.to_frame helps us to convert to a dataframe\n",
    "df1 = dfp.groupby(['Age_group']).condition.count().to_frame(name = None)"
   ]
  },
  {
   "cell_type": "code",
   "execution_count": 27,
   "id": "17244097-9d88-44a3-9a40-55ea6c135453",
   "metadata": {},
   "outputs": [],
   "source": [
    "df1.reset_index(inplace = True) #convert the index column to column"
   ]
  },
  {
   "cell_type": "code",
   "execution_count": 28,
   "id": "d82837bd-a015-4207-a030-e6a4c485a6b6",
   "metadata": {},
   "outputs": [],
   "source": [
    "df1.rename(columns = {'condition' : 'total_patients'}, inplace = True)"
   ]
  },
  {
   "cell_type": "code",
   "execution_count": 29,
   "id": "6cb0de86-6e62-48bd-a51e-48a4e6dd2d6b",
   "metadata": {},
   "outputs": [
    {
     "data": {
      "text/html": [
       "<div>\n",
       "<style scoped>\n",
       "    .dataframe tbody tr th:only-of-type {\n",
       "        vertical-align: middle;\n",
       "    }\n",
       "\n",
       "    .dataframe tbody tr th {\n",
       "        vertical-align: top;\n",
       "    }\n",
       "\n",
       "    .dataframe thead th {\n",
       "        text-align: right;\n",
       "    }\n",
       "</style>\n",
       "<table border=\"1\" class=\"dataframe\">\n",
       "  <thead>\n",
       "    <tr style=\"text-align: right;\">\n",
       "      <th></th>\n",
       "      <th>Age_group</th>\n",
       "      <th>total_patients</th>\n",
       "    </tr>\n",
       "  </thead>\n",
       "  <tbody>\n",
       "    <tr>\n",
       "      <th>0</th>\n",
       "      <td>30s</td>\n",
       "      <td>4</td>\n",
       "    </tr>\n",
       "    <tr>\n",
       "      <th>1</th>\n",
       "      <td>40s</td>\n",
       "      <td>21</td>\n",
       "    </tr>\n",
       "    <tr>\n",
       "      <th>2</th>\n",
       "      <td>50s</td>\n",
       "      <td>59</td>\n",
       "    </tr>\n",
       "    <tr>\n",
       "      <th>3</th>\n",
       "      <td>60s</td>\n",
       "      <td>49</td>\n",
       "    </tr>\n",
       "    <tr>\n",
       "      <th>4</th>\n",
       "      <td>70s</td>\n",
       "      <td>4</td>\n",
       "    </tr>\n",
       "  </tbody>\n",
       "</table>\n",
       "</div>"
      ],
      "text/plain": [
       "  Age_group  total_patients\n",
       "0       30s               4\n",
       "1       40s              21\n",
       "2       50s              59\n",
       "3       60s              49\n",
       "4       70s               4"
      ]
     },
     "execution_count": 29,
     "metadata": {},
     "output_type": "execute_result"
    }
   ],
   "source": [
    "df1\n",
    "# Age distribution of patients with heart disease\n"
   ]
  },
  {
   "cell_type": "code",
   "execution_count": 30,
   "id": "2040fb2c-be2c-436e-8cde-b7c9c5e41c2b",
   "metadata": {},
   "outputs": [
    {
     "data": {
      "image/png": "[encoded data removed]",
      "text/plain": [
       "<Figure size 864x576 with 1 Axes>"
      ]
     },
     "metadata": {},
     "output_type": "display_data"
    }
   ],
   "source": [
    "plt.figure(figsize = (12,8))\n",
    "df1.total_patients.plot(kind = 'pie',labels = df1.total_patients)\n",
    "plt.legend(['30s','40s','50s','60s','70s'],loc = 'upper right')\n",
    "plt.title('Fig-2:Age distribution of patients with heart disease')\n",
    "plt.show()"
   ]
  },
  {
   "cell_type": "markdown",
   "id": "92a9dbe6-d91f-4813-b0f4-a5dc5c3d9e7e",
   "metadata": {},
   "source": [
    "* The age group with the highest cases of heart disease are patients in their 50s"
   ]
  },
  {
   "cell_type": "code",
   "execution_count": 31,
   "id": "1138f75c-dbce-46d8-ac3d-5d6c9437cc70",
   "metadata": {},
   "outputs": [],
   "source": [
    "# The age distribution with the highest cases and what type of heart \n",
    "# disease they are experiencing\n",
    "df2 = dfp.groupby(['Age_group','cp']).condition.count().to_frame(name = None)"
   ]
  },
  {
   "cell_type": "code",
   "execution_count": 32,
   "id": "77c6c574-f9c9-46f1-837d-91c44458312e",
   "metadata": {},
   "outputs": [
    {
     "data": {
      "text/html": [
       "<div>\n",
       "<style scoped>\n",
       "    .dataframe tbody tr th:only-of-type {\n",
       "        vertical-align: middle;\n",
       "    }\n",
       "\n",
       "    .dataframe tbody tr th {\n",
       "        vertical-align: top;\n",
       "    }\n",
       "\n",
       "    .dataframe thead th {\n",
       "        text-align: right;\n",
       "    }\n",
       "</style>\n",
       "<table border=\"1\" class=\"dataframe\">\n",
       "  <thead>\n",
       "    <tr style=\"text-align: right;\">\n",
       "      <th></th>\n",
       "      <th></th>\n",
       "      <th>condition</th>\n",
       "    </tr>\n",
       "    <tr>\n",
       "      <th>Age_group</th>\n",
       "      <th>cp</th>\n",
       "      <th></th>\n",
       "    </tr>\n",
       "  </thead>\n",
       "  <tbody>\n",
       "    <tr>\n",
       "      <th rowspan=\"2\" valign=\"top\">30s</th>\n",
       "      <th>0</th>\n",
       "      <td>1</td>\n",
       "    </tr>\n",
       "    <tr>\n",
       "      <th>3</th>\n",
       "      <td>3</td>\n",
       "    </tr>\n",
       "    <tr>\n",
       "      <th rowspan=\"4\" valign=\"top\">40s</th>\n",
       "      <th>0</th>\n",
       "      <td>1</td>\n",
       "    </tr>\n",
       "    <tr>\n",
       "      <th>1</th>\n",
       "      <td>1</td>\n",
       "    </tr>\n",
       "    <tr>\n",
       "      <th>2</th>\n",
       "      <td>4</td>\n",
       "    </tr>\n",
       "    <tr>\n",
       "      <th>3</th>\n",
       "      <td>15</td>\n",
       "    </tr>\n",
       "    <tr>\n",
       "      <th rowspan=\"4\" valign=\"top\">50s</th>\n",
       "      <th>0</th>\n",
       "      <td>3</td>\n",
       "    </tr>\n",
       "    <tr>\n",
       "      <th>1</th>\n",
       "      <td>6</td>\n",
       "    </tr>\n",
       "    <tr>\n",
       "      <th>2</th>\n",
       "      <td>6</td>\n",
       "    </tr>\n",
       "    <tr>\n",
       "      <th>3</th>\n",
       "      <td>44</td>\n",
       "    </tr>\n",
       "    <tr>\n",
       "      <th rowspan=\"4\" valign=\"top\">60s</th>\n",
       "      <th>0</th>\n",
       "      <td>2</td>\n",
       "    </tr>\n",
       "    <tr>\n",
       "      <th>1</th>\n",
       "      <td>2</td>\n",
       "    </tr>\n",
       "    <tr>\n",
       "      <th>2</th>\n",
       "      <td>7</td>\n",
       "    </tr>\n",
       "    <tr>\n",
       "      <th>3</th>\n",
       "      <td>38</td>\n",
       "    </tr>\n",
       "    <tr>\n",
       "      <th rowspan=\"2\" valign=\"top\">70s</th>\n",
       "      <th>2</th>\n",
       "      <td>1</td>\n",
       "    </tr>\n",
       "    <tr>\n",
       "      <th>3</th>\n",
       "      <td>3</td>\n",
       "    </tr>\n",
       "  </tbody>\n",
       "</table>\n",
       "</div>"
      ],
      "text/plain": [
       "              condition\n",
       "Age_group cp           \n",
       "30s       0           1\n",
       "          3           3\n",
       "40s       0           1\n",
       "          1           1\n",
       "          2           4\n",
       "          3          15\n",
       "50s       0           3\n",
       "          1           6\n",
       "          2           6\n",
       "          3          44\n",
       "60s       0           2\n",
       "          1           2\n",
       "          2           7\n",
       "          3          38\n",
       "70s       2           1\n",
       "          3           3"
      ]
     },
     "execution_count": 32,
     "metadata": {},
     "output_type": "execute_result"
    }
   ],
   "source": [
    "df2"
   ]
  },
  {
   "cell_type": "markdown",
   "id": "64ea9366-7c59-4f0f-9dfb-8ae40f0d8761",
   "metadata": {},
   "source": [
    "* The type of heart disease they are experiencing in the 50's are\n",
    "1. Value 0: typical angina\n",
    "2. Value 1: atypical angina\n",
    "3. Value 2: non-anginal pain\n",
    "4. Value 3: asymptomatic\n",
    "* The heart disease affecting mostly is the asmptomatic which affected 44 people out of 59 in the 50s"
   ]
  },
  {
   "cell_type": "markdown",
   "id": "91123c4f-6871-4776-a3e0-d4e870ba374d",
   "metadata": {},
   "source": [
    "# Q.3 The gender with the highest cases of heart disease"
   ]
  },
  {
   "cell_type": "code",
   "execution_count": 33,
   "id": "53a8bdff-4a7a-4bc7-a1ed-01c39855b164",
   "metadata": {},
   "outputs": [],
   "source": [
    "# Now lets divide the dataset to disease or no disease\n",
    "# we use the loc to access the row\n",
    "disease = df.loc[df.condition ==1]\n",
    "no_disease = df.loc[df.condition == 0 ]\n"
   ]
  },
  {
   "cell_type": "code",
   "execution_count": 34,
   "id": "de3e23f6-f446-4103-97aa-350ab58f1b25",
   "metadata": {},
   "outputs": [
    {
     "data": {
      "text/html": [
       "<div>\n",
       "<style scoped>\n",
       "    .dataframe tbody tr th:only-of-type {\n",
       "        vertical-align: middle;\n",
       "    }\n",
       "\n",
       "    .dataframe tbody tr th {\n",
       "        vertical-align: top;\n",
       "    }\n",
       "\n",
       "    .dataframe thead th {\n",
       "        text-align: right;\n",
       "    }\n",
       "</style>\n",
       "<table border=\"1\" class=\"dataframe\">\n",
       "  <thead>\n",
       "    <tr style=\"text-align: right;\">\n",
       "      <th></th>\n",
       "      <th>age</th>\n",
       "      <th>sex</th>\n",
       "      <th>cp</th>\n",
       "      <th>chol</th>\n",
       "      <th>fbs</th>\n",
       "      <th>exang</th>\n",
       "      <th>thal</th>\n",
       "      <th>condition</th>\n",
       "      <th>Age_group</th>\n",
       "    </tr>\n",
       "  </thead>\n",
       "  <tbody>\n",
       "    <tr>\n",
       "      <th>3</th>\n",
       "      <td>65</td>\n",
       "      <td>1</td>\n",
       "      <td>0</td>\n",
       "      <td>282</td>\n",
       "      <td>1</td>\n",
       "      <td>0</td>\n",
       "      <td>0</td>\n",
       "      <td>1</td>\n",
       "      <td>60s</td>\n",
       "    </tr>\n",
       "    <tr>\n",
       "      <th>7</th>\n",
       "      <td>61</td>\n",
       "      <td>1</td>\n",
       "      <td>0</td>\n",
       "      <td>234</td>\n",
       "      <td>0</td>\n",
       "      <td>0</td>\n",
       "      <td>0</td>\n",
       "      <td>1</td>\n",
       "      <td>60s</td>\n",
       "    </tr>\n",
       "    <tr>\n",
       "      <th>10</th>\n",
       "      <td>59</td>\n",
       "      <td>1</td>\n",
       "      <td>0</td>\n",
       "      <td>288</td>\n",
       "      <td>0</td>\n",
       "      <td>0</td>\n",
       "      <td>2</td>\n",
       "      <td>1</td>\n",
       "      <td>50s</td>\n",
       "    </tr>\n",
       "    <tr>\n",
       "      <th>11</th>\n",
       "      <td>59</td>\n",
       "      <td>1</td>\n",
       "      <td>0</td>\n",
       "      <td>273</td>\n",
       "      <td>0</td>\n",
       "      <td>0</td>\n",
       "      <td>0</td>\n",
       "      <td>1</td>\n",
       "      <td>50s</td>\n",
       "    </tr>\n",
       "    <tr>\n",
       "      <th>12</th>\n",
       "      <td>59</td>\n",
       "      <td>1</td>\n",
       "      <td>0</td>\n",
       "      <td>204</td>\n",
       "      <td>0</td>\n",
       "      <td>0</td>\n",
       "      <td>0</td>\n",
       "      <td>1</td>\n",
       "      <td>50s</td>\n",
       "    </tr>\n",
       "  </tbody>\n",
       "</table>\n",
       "</div>"
      ],
      "text/plain": [
       "    age  sex  cp  chol  fbs  exang  thal  condition Age_group\n",
       "3    65    1   0   282    1      0     0          1       60s\n",
       "7    61    1   0   234    0      0     0          1       60s\n",
       "10   59    1   0   288    0      0     2          1       50s\n",
       "11   59    1   0   273    0      0     0          1       50s\n",
       "12   59    1   0   204    0      0     0          1       50s"
      ]
     },
     "execution_count": 34,
     "metadata": {},
     "output_type": "execute_result"
    }
   ],
   "source": [
    "disease.head()"
   ]
  },
  {
   "cell_type": "code",
   "execution_count": 35,
   "id": "2a63c2cf-4c6c-4421-9e46-a8e59e0e405b",
   "metadata": {},
   "outputs": [
    {
     "name": "stderr",
     "output_type": "stream",
     "text": [
      "C:\\anaconda\\lib\\site-packages\\pandas\\core\\generic.py:5516: SettingWithCopyWarning: \n",
      "A value is trying to be set on a copy of a slice from a DataFrame.\n",
      "Try using .loc[row_indexer,col_indexer] = value instead\n",
      "\n",
      "See the caveats in the documentation: https://pandas.pydata.org/pandas-docs/stable/user_guide/indexing.html#returning-a-view-versus-a-copy\n",
      "  self[name] = value\n"
     ]
    }
   ],
   "source": [
    "# lets replace the 0 and 1 in sex with female and male\n",
    "disease.sex = disease.sex.replace([0,1],['Female','Male'])"
   ]
  },
  {
   "cell_type": "code",
   "execution_count": 36,
   "id": "20673108-0bae-43f9-aafc-31ad8e8af7e6",
   "metadata": {},
   "outputs": [
    {
     "data": {
      "text/html": [
       "<div>\n",
       "<style scoped>\n",
       "    .dataframe tbody tr th:only-of-type {\n",
       "        vertical-align: middle;\n",
       "    }\n",
       "\n",
       "    .dataframe tbody tr th {\n",
       "        vertical-align: top;\n",
       "    }\n",
       "\n",
       "    .dataframe thead th {\n",
       "        text-align: right;\n",
       "    }\n",
       "</style>\n",
       "<table border=\"1\" class=\"dataframe\">\n",
       "  <thead>\n",
       "    <tr style=\"text-align: right;\">\n",
       "      <th></th>\n",
       "      <th>age</th>\n",
       "      <th>sex</th>\n",
       "      <th>cp</th>\n",
       "      <th>chol</th>\n",
       "      <th>fbs</th>\n",
       "      <th>exang</th>\n",
       "      <th>thal</th>\n",
       "      <th>condition</th>\n",
       "      <th>Age_group</th>\n",
       "    </tr>\n",
       "  </thead>\n",
       "  <tbody>\n",
       "    <tr>\n",
       "      <th>3</th>\n",
       "      <td>65</td>\n",
       "      <td>Male</td>\n",
       "      <td>0</td>\n",
       "      <td>282</td>\n",
       "      <td>1</td>\n",
       "      <td>0</td>\n",
       "      <td>0</td>\n",
       "      <td>1</td>\n",
       "      <td>60s</td>\n",
       "    </tr>\n",
       "    <tr>\n",
       "      <th>7</th>\n",
       "      <td>61</td>\n",
       "      <td>Male</td>\n",
       "      <td>0</td>\n",
       "      <td>234</td>\n",
       "      <td>0</td>\n",
       "      <td>0</td>\n",
       "      <td>0</td>\n",
       "      <td>1</td>\n",
       "      <td>60s</td>\n",
       "    </tr>\n",
       "    <tr>\n",
       "      <th>10</th>\n",
       "      <td>59</td>\n",
       "      <td>Male</td>\n",
       "      <td>0</td>\n",
       "      <td>288</td>\n",
       "      <td>0</td>\n",
       "      <td>0</td>\n",
       "      <td>2</td>\n",
       "      <td>1</td>\n",
       "      <td>50s</td>\n",
       "    </tr>\n",
       "    <tr>\n",
       "      <th>11</th>\n",
       "      <td>59</td>\n",
       "      <td>Male</td>\n",
       "      <td>0</td>\n",
       "      <td>273</td>\n",
       "      <td>0</td>\n",
       "      <td>0</td>\n",
       "      <td>0</td>\n",
       "      <td>1</td>\n",
       "      <td>50s</td>\n",
       "    </tr>\n",
       "    <tr>\n",
       "      <th>12</th>\n",
       "      <td>59</td>\n",
       "      <td>Male</td>\n",
       "      <td>0</td>\n",
       "      <td>204</td>\n",
       "      <td>0</td>\n",
       "      <td>0</td>\n",
       "      <td>0</td>\n",
       "      <td>1</td>\n",
       "      <td>50s</td>\n",
       "    </tr>\n",
       "  </tbody>\n",
       "</table>\n",
       "</div>"
      ],
      "text/plain": [
       "    age   sex  cp  chol  fbs  exang  thal  condition Age_group\n",
       "3    65  Male   0   282    1      0     0          1       60s\n",
       "7    61  Male   0   234    0      0     0          1       60s\n",
       "10   59  Male   0   288    0      0     2          1       50s\n",
       "11   59  Male   0   273    0      0     0          1       50s\n",
       "12   59  Male   0   204    0      0     0          1       50s"
      ]
     },
     "execution_count": 36,
     "metadata": {},
     "output_type": "execute_result"
    }
   ],
   "source": [
    "disease.head()"
   ]
  },
  {
   "cell_type": "code",
   "execution_count": 37,
   "id": "b007191b-b22e-4dee-ace4-58f2d7e4144a",
   "metadata": {},
   "outputs": [
    {
     "name": "stdout",
     "output_type": "stream",
     "text": [
      "Table showing number of male patients and female patient with heart disease\n"
     ]
    },
    {
     "data": {
      "text/html": [
       "<div>\n",
       "<style scoped>\n",
       "    .dataframe tbody tr th:only-of-type {\n",
       "        vertical-align: middle;\n",
       "    }\n",
       "\n",
       "    .dataframe tbody tr th {\n",
       "        vertical-align: top;\n",
       "    }\n",
       "\n",
       "    .dataframe thead th {\n",
       "        text-align: right;\n",
       "    }\n",
       "</style>\n",
       "<table border=\"1\" class=\"dataframe\">\n",
       "  <thead>\n",
       "    <tr style=\"text-align: right;\">\n",
       "      <th></th>\n",
       "      <th></th>\n",
       "      <th>condition</th>\n",
       "    </tr>\n",
       "    <tr>\n",
       "      <th>sex</th>\n",
       "      <th>Age_group</th>\n",
       "      <th></th>\n",
       "    </tr>\n",
       "  </thead>\n",
       "  <tbody>\n",
       "    <tr>\n",
       "      <th rowspan=\"3\" valign=\"top\">Female</th>\n",
       "      <th>40s</th>\n",
       "      <td>1</td>\n",
       "    </tr>\n",
       "    <tr>\n",
       "      <th>50s</th>\n",
       "      <td>10</td>\n",
       "    </tr>\n",
       "    <tr>\n",
       "      <th>60s</th>\n",
       "      <td>14</td>\n",
       "    </tr>\n",
       "    <tr>\n",
       "      <th rowspan=\"5\" valign=\"top\">Male</th>\n",
       "      <th>30s</th>\n",
       "      <td>4</td>\n",
       "    </tr>\n",
       "    <tr>\n",
       "      <th>40s</th>\n",
       "      <td>20</td>\n",
       "    </tr>\n",
       "    <tr>\n",
       "      <th>50s</th>\n",
       "      <td>49</td>\n",
       "    </tr>\n",
       "    <tr>\n",
       "      <th>60s</th>\n",
       "      <td>35</td>\n",
       "    </tr>\n",
       "    <tr>\n",
       "      <th>70s</th>\n",
       "      <td>4</td>\n",
       "    </tr>\n",
       "  </tbody>\n",
       "</table>\n",
       "</div>"
      ],
      "text/plain": [
       "                  condition\n",
       "sex    Age_group           \n",
       "Female 40s                1\n",
       "       50s               10\n",
       "       60s               14\n",
       "Male   30s                4\n",
       "       40s               20\n",
       "       50s               49\n",
       "       60s               35\n",
       "       70s                4"
      ]
     },
     "execution_count": 37,
     "metadata": {},
     "output_type": "execute_result"
    }
   ],
   "source": [
    "# Group the heart disease based on gender\n",
    "df4 = disease.groupby(['sex','Age_group']).condition.count().to_frame(name=None)\n",
    "print('Table showing number of male patients and female patient with heart disease')\n",
    "df4"
   ]
  },
  {
   "cell_type": "markdown",
   "id": "7d22fa10-7675-42ab-9bb3-49831275b347",
   "metadata": {},
   "source": [
    "- Most of female patients with heart disease were in their 50s and 60s\n",
    "- Most of male patients with heart disease were in their 40s, 50s and 60s "
   ]
  },
  {
   "cell_type": "code",
   "execution_count": 38,
   "id": "77f9efae-6c3f-42d0-887b-0a5e85d92bbb",
   "metadata": {},
   "outputs": [
    {
     "data": {
      "text/html": [
       "<div>\n",
       "<style scoped>\n",
       "    .dataframe tbody tr th:only-of-type {\n",
       "        vertical-align: middle;\n",
       "    }\n",
       "\n",
       "    .dataframe tbody tr th {\n",
       "        vertical-align: top;\n",
       "    }\n",
       "\n",
       "    .dataframe thead th {\n",
       "        text-align: right;\n",
       "    }\n",
       "</style>\n",
       "<table border=\"1\" class=\"dataframe\">\n",
       "  <thead>\n",
       "    <tr style=\"text-align: right;\">\n",
       "      <th></th>\n",
       "      <th>sex</th>\n",
       "      <th>condition</th>\n",
       "    </tr>\n",
       "  </thead>\n",
       "  <tbody>\n",
       "    <tr>\n",
       "      <th>0</th>\n",
       "      <td>Female</td>\n",
       "      <td>25</td>\n",
       "    </tr>\n",
       "    <tr>\n",
       "      <th>1</th>\n",
       "      <td>Male</td>\n",
       "      <td>112</td>\n",
       "    </tr>\n",
       "  </tbody>\n",
       "</table>\n",
       "</div>"
      ],
      "text/plain": [
       "      sex  condition\n",
       "0  Female         25\n",
       "1    Male        112"
      ]
     },
     "execution_count": 38,
     "metadata": {},
     "output_type": "execute_result"
    }
   ],
   "source": [
    "df4 = disease.groupby(['sex']).condition.count().to_frame(name = None)\n",
    "df4.reset_index(inplace = True)\n",
    "df4"
   ]
  },
  {
   "cell_type": "code",
   "execution_count": 39,
   "id": "1043e67e-5ee3-4ae2-a9e5-ba8c305be020",
   "metadata": {},
   "outputs": [
    {
     "data": {
      "image/png": "[encoded data removed]",
      "text/plain": [
       "<Figure size 360x360 with 1 Axes>"
      ]
     },
     "metadata": {
      "needs_background": "light"
     },
     "output_type": "display_data"
    }
   ],
   "source": [
    "sns.catplot(data = df4,kind = 'bar', y = 'condition',x='sex',)\n",
    "plt.title('Gender Heart Disease')\n",
    "plt.show()"
   ]
  },
  {
   "cell_type": "markdown",
   "id": "292db650-354f-466e-9814-ae85248091f9",
   "metadata": {},
   "source": [
    "* The Visualization shows clearly the gender with the highest disease"
   ]
  },
  {
   "cell_type": "markdown",
   "id": "110e2f62-650a-4ecb-b413-09c3128a5474",
   "metadata": {},
   "source": [
    "# Q.4 Total Number of patient distinguished by sex"
   ]
  },
  {
   "cell_type": "code",
   "execution_count": 40,
   "id": "1761aa73-6d85-4afe-9949-75f383379b47",
   "metadata": {},
   "outputs": [
    {
     "data": {
      "text/html": [
       "<div>\n",
       "<style scoped>\n",
       "    .dataframe tbody tr th:only-of-type {\n",
       "        vertical-align: middle;\n",
       "    }\n",
       "\n",
       "    .dataframe tbody tr th {\n",
       "        vertical-align: top;\n",
       "    }\n",
       "\n",
       "    .dataframe thead th {\n",
       "        text-align: right;\n",
       "    }\n",
       "</style>\n",
       "<table border=\"1\" class=\"dataframe\">\n",
       "  <thead>\n",
       "    <tr style=\"text-align: right;\">\n",
       "      <th></th>\n",
       "      <th>sex</th>\n",
       "      <th>Total</th>\n",
       "    </tr>\n",
       "  </thead>\n",
       "  <tbody>\n",
       "    <tr>\n",
       "      <th>0</th>\n",
       "      <td>Female</td>\n",
       "      <td>96</td>\n",
       "    </tr>\n",
       "    <tr>\n",
       "      <th>1</th>\n",
       "      <td>Male</td>\n",
       "      <td>201</td>\n",
       "    </tr>\n",
       "  </tbody>\n",
       "</table>\n",
       "</div>"
      ],
      "text/plain": [
       "      sex  Total\n",
       "0  Female     96\n",
       "1    Male    201"
      ]
     },
     "execution_count": 40,
     "metadata": {},
     "output_type": "execute_result"
    }
   ],
   "source": [
    "\n",
    "d1 = df.groupby(['sex']).sex.count().to_frame(name = None)\n",
    "d1.rename(columns = {'sex':'Total'},inplace = True)\n",
    "d1.reset_index(inplace = True)\n",
    "d1.sex.replace([0,1],['Female','Male'],inplace = True)\n",
    "d1"
   ]
  },
  {
   "cell_type": "code",
   "execution_count": 41,
   "id": "d12c85f1-acd4-45a2-b039-3164473f1049",
   "metadata": {},
   "outputs": [
    {
     "data": {
      "image/png": "[encoded data removed]",
      "text/plain": [
       "<Figure size 360x360 with 1 Axes>"
      ]
     },
     "metadata": {
      "needs_background": "light"
     },
     "output_type": "display_data"
    }
   ],
   "source": [
    "# lets Visualize it\n",
    "sns.catplot(data = d1,kind='bar', y = 'Total',x='sex',)\n",
    "plt.title('Number of Patients by sex')\n",
    "plt.show()"
   ]
  },
  {
   "cell_type": "markdown",
   "id": "c1cf44e5-fc69-48b8-8125-c761852b36e7",
   "metadata": {},
   "source": [
    "* This helps us to have a clearer picture"
   ]
  },
  {
   "cell_type": "markdown",
   "id": "3326b35f-78b6-426b-8f92-9d4d1634a190",
   "metadata": {},
   "source": [
    "# Q.5 Chest Pain that result in heart disease"
   ]
  },
  {
   "cell_type": "markdown",
   "id": "a80ad081-b1c2-40a8-8805-e3f9ba66dede",
   "metadata": {},
   "source": [
    "- Explanation For The Types Of Chest Pain:\n",
    "> 1. Typical angina: or Angina pectoris, a condition where heart does not get enough oxygen or blood due to coronary artery blockage.\n",
    "> 2. Atypical angina: Chest pain but no symptoms of angina, happens when heart doesn't get enough oxygeneted blood.\n",
    "> 3. Non-anginal: or Non-cardiac chest pain (NCCP), feels like chest pain but rather happens due to acidity i.e. Gastroesophageal Reflux Disease (GERD).\n",
    "> 4. Asymptotic chest pain: or Silent Myocardial Infarction (SMI), happens due to stress, high cholesterol, high bp, diabetes, and other physical or mental issues. One of a reason of premature death in India. Mostly seen in middle aged people"
   ]
  },
  {
   "cell_type": "code",
   "execution_count": 42,
   "id": "4dc4a178-90d8-4943-a11f-00843828bc63",
   "metadata": {},
   "outputs": [
    {
     "data": {
      "text/plain": [
       "cp\n",
       "0     23\n",
       "1     49\n",
       "2     83\n",
       "3    142\n",
       "Name: cp, dtype: int64"
      ]
     },
     "execution_count": 42,
     "metadata": {},
     "output_type": "execute_result"
    }
   ],
   "source": [
    "# lets group the types of chest pain\n",
    "cp_type = df.groupby(['cp']).cp.count()\n",
    "cp_type"
   ]
  },
  {
   "cell_type": "code",
   "execution_count": 43,
   "id": "322babf0-5ee1-47ee-8ad4-9ff2982049ed",
   "metadata": {},
   "outputs": [
    {
     "name": "stderr",
     "output_type": "stream",
     "text": [
      "C:\\anaconda\\lib\\site-packages\\seaborn\\_decorators.py:36: FutureWarning: Pass the following variable as a keyword arg: x. From version 0.12, the only valid positional argument will be `data`, and passing other arguments without an explicit keyword will result in an error or misinterpretation.\n",
      "  warnings.warn(\n"
     ]
    },
    {
     "data": {
      "image/png": "[encoded data removed]",
      "text/plain": [
       "<Figure size 648x360 with 1 Axes>"
      ]
     },
     "metadata": {
      "needs_background": "light"
     },
     "output_type": "display_data"
    }
   ],
   "source": [
    "# visualiize the types of chest pain\n",
    "sns.countplot(df.cp)\n",
    "plt.xticks([0,1,2,3],['Typical angina', 'Atypical angina', 'Non-anginal pain', 'Asymptomatic'])\n",
    "plt.title('Types of Chest Pain',loc = 'left')\n",
    "plt.xlabel('chest pain')\n",
    "plt.show()"
   ]
  },
  {
   "cell_type": "code",
   "execution_count": 44,
   "id": "65b4e039-cdb3-4299-89ef-9c71c4c6f539",
   "metadata": {},
   "outputs": [],
   "source": [
    "# now lets divide the dataset based on chest pain\n",
    "typical_angina = df.loc[df.cp == 0 ]\n",
    "Atypical_angina  = df.loc[df.cp == 1 ]\n",
    "Non_angina_Pain = df.loc[df.cp == 2]\n",
    "Asymptomatic = df.loc[df.cp == 3 ]"
   ]
  },
  {
   "cell_type": "code",
   "execution_count": 45,
   "id": "908faed2-7ef8-472e-af8b-e076d09263f6",
   "metadata": {},
   "outputs": [
    {
     "data": {
      "text/html": [
       "<div>\n",
       "<style scoped>\n",
       "    .dataframe tbody tr th:only-of-type {\n",
       "        vertical-align: middle;\n",
       "    }\n",
       "\n",
       "    .dataframe tbody tr th {\n",
       "        vertical-align: top;\n",
       "    }\n",
       "\n",
       "    .dataframe thead th {\n",
       "        text-align: right;\n",
       "    }\n",
       "</style>\n",
       "<table border=\"1\" class=\"dataframe\">\n",
       "  <thead>\n",
       "    <tr style=\"text-align: right;\">\n",
       "      <th></th>\n",
       "      <th>age</th>\n",
       "      <th>sex</th>\n",
       "      <th>cp</th>\n",
       "      <th>chol</th>\n",
       "      <th>fbs</th>\n",
       "      <th>exang</th>\n",
       "      <th>thal</th>\n",
       "      <th>condition</th>\n",
       "      <th>Age_group</th>\n",
       "    </tr>\n",
       "  </thead>\n",
       "  <tbody>\n",
       "    <tr>\n",
       "      <th>0</th>\n",
       "      <td>69</td>\n",
       "      <td>1</td>\n",
       "      <td>0</td>\n",
       "      <td>234</td>\n",
       "      <td>1</td>\n",
       "      <td>0</td>\n",
       "      <td>0</td>\n",
       "      <td>0</td>\n",
       "      <td>60s</td>\n",
       "    </tr>\n",
       "    <tr>\n",
       "      <th>1</th>\n",
       "      <td>69</td>\n",
       "      <td>0</td>\n",
       "      <td>0</td>\n",
       "      <td>239</td>\n",
       "      <td>0</td>\n",
       "      <td>0</td>\n",
       "      <td>0</td>\n",
       "      <td>0</td>\n",
       "      <td>60s</td>\n",
       "    </tr>\n",
       "    <tr>\n",
       "      <th>2</th>\n",
       "      <td>66</td>\n",
       "      <td>0</td>\n",
       "      <td>0</td>\n",
       "      <td>226</td>\n",
       "      <td>0</td>\n",
       "      <td>0</td>\n",
       "      <td>0</td>\n",
       "      <td>0</td>\n",
       "      <td>60s</td>\n",
       "    </tr>\n",
       "    <tr>\n",
       "      <th>3</th>\n",
       "      <td>65</td>\n",
       "      <td>1</td>\n",
       "      <td>0</td>\n",
       "      <td>282</td>\n",
       "      <td>1</td>\n",
       "      <td>0</td>\n",
       "      <td>0</td>\n",
       "      <td>1</td>\n",
       "      <td>60s</td>\n",
       "    </tr>\n",
       "    <tr>\n",
       "      <th>4</th>\n",
       "      <td>64</td>\n",
       "      <td>1</td>\n",
       "      <td>0</td>\n",
       "      <td>211</td>\n",
       "      <td>0</td>\n",
       "      <td>1</td>\n",
       "      <td>0</td>\n",
       "      <td>0</td>\n",
       "      <td>60s</td>\n",
       "    </tr>\n",
       "  </tbody>\n",
       "</table>\n",
       "</div>"
      ],
      "text/plain": [
       "   age  sex  cp  chol  fbs  exang  thal  condition Age_group\n",
       "0   69    1   0   234    1      0     0          0       60s\n",
       "1   69    0   0   239    0      0     0          0       60s\n",
       "2   66    0   0   226    0      0     0          0       60s\n",
       "3   65    1   0   282    1      0     0          1       60s\n",
       "4   64    1   0   211    0      1     0          0       60s"
      ]
     },
     "execution_count": 45,
     "metadata": {},
     "output_type": "execute_result"
    }
   ],
   "source": [
    "typical_angina.head()"
   ]
  },
  {
   "cell_type": "code",
   "execution_count": 46,
   "id": "773ad345-64b8-4ccd-9ed2-80d4d594d984",
   "metadata": {},
   "outputs": [
    {
     "data": {
      "text/plain": [
       "condition\n",
       "0    16\n",
       "1     7\n",
       "Name: condition, dtype: int64"
      ]
     },
     "execution_count": 46,
     "metadata": {},
     "output_type": "execute_result"
    }
   ],
   "source": [
    "typical_cp = typical_angina.groupby(['condition']).condition.count()\n",
    "typical_cp"
   ]
  },
  {
   "cell_type": "code",
   "execution_count": 47,
   "id": "79ac0bb8-594f-4070-99ee-e1e1a4fdcfcb",
   "metadata": {},
   "outputs": [
    {
     "name": "stdout",
     "output_type": "stream",
     "text": [
      "from typical angina, only 30% are at risk of  heart disease\n"
     ]
    }
   ],
   "source": [
    "# lets check the perceintage of chest pain that result in heart disease\n",
    "typical_prct = (typical_cp[1]/cp_type[0])*100\n",
    "print(f\"from typical angina, only {round(typical_prct)}% are at risk of  heart disease\")"
   ]
  },
  {
   "cell_type": "code",
   "execution_count": 48,
   "id": "75804a94-4652-4fa4-8888-4e76b0aab4ca",
   "metadata": {},
   "outputs": [],
   "source": [
    "atypical_cp = Atypical_angina.groupby(['condition']).condition.count()\n",
    "non_anginal_cp =Non_angina_Pain.groupby(['condition']).condition.count()\n",
    "asymptotic_cp = Asymptomatic.groupby(['condition']).condition.count()"
   ]
  },
  {
   "cell_type": "code",
   "execution_count": 49,
   "id": "2424cc65-c671-4b95-840a-a6b311a6df55",
   "metadata": {},
   "outputs": [],
   "source": [
    "# percentage\n",
    "atypical_prct = (atypical_cp[1]/cp_type[1])*100\n",
    "non_anginal_prct = (non_anginal_cp[1]/cp_type[2])*100\n",
    "asymptotic_prct = (asymptotic_cp[1]/cp_type[3])*100"
   ]
  },
  {
   "cell_type": "code",
   "execution_count": 50,
   "id": "ebaabd24-edc2-4e9c-842e-cdd8ae144754",
   "metadata": {},
   "outputs": [
    {
     "name": "stdout",
     "output_type": "stream",
     "text": [
      "from atypical angina, only 18% are at risk of  heart disease\n"
     ]
    }
   ],
   "source": [
    "print(f\"from atypical angina, only {round(atypical_prct)}% are at risk of  heart disease\")"
   ]
  },
  {
   "cell_type": "code",
   "execution_count": 51,
   "id": "74be8d01-9550-4d33-82ff-adf935040cbf",
   "metadata": {},
   "outputs": [
    {
     "name": "stdout",
     "output_type": "stream",
     "text": [
      "from non_angina_prct, only 22% are at risk of  heart disease\n"
     ]
    }
   ],
   "source": [
    "print(f\"from non_angina_prct, only {round(non_anginal_prct)}% are at risk of  heart disease\")"
   ]
  },
  {
   "cell_type": "code",
   "execution_count": 52,
   "id": "9304b243-b144-4213-9b63-8a40ba3231e2",
   "metadata": {},
   "outputs": [
    {
     "name": "stdout",
     "output_type": "stream",
     "text": [
      "from asymptomatic angina, only 73% are at risk of  heart disease\n"
     ]
    }
   ],
   "source": [
    "print(f\"from asymptomatic angina, only {round(asymptotic_prct)}% are at risk of  heart disease\")"
   ]
  },
  {
   "cell_type": "markdown",
   "id": "dc0273bd-642d-4b08-826f-1164a848e857",
   "metadata": {},
   "source": [
    "* Asymptomatic results in more heart disease than the other types of chest pain"
   ]
  },
  {
   "cell_type": "code",
   "execution_count": 53,
   "id": "27abba36-6bc2-4b60-8f2d-ab81cac19a85",
   "metadata": {},
   "outputs": [
    {
     "data": {
      "text/plain": [
       "condition\n",
       "0     39\n",
       "1    103\n",
       "Name: condition, dtype: int64"
      ]
     },
     "execution_count": 53,
     "metadata": {},
     "output_type": "execute_result"
    }
   ],
   "source": [
    "asymptotic_cp"
   ]
  },
  {
   "cell_type": "code",
   "execution_count": 54,
   "id": "e6d21411-a2ad-4872-b806-ded1b9cfe3b9",
   "metadata": {},
   "outputs": [
    {
     "data": {
      "image/png": "[encoded data removed]",
      "text/plain": [
       "<Figure size 648x360 with 1 Axes>"
      ]
     },
     "metadata": {
      "needs_background": "light"
     },
     "output_type": "display_data"
    }
   ],
   "source": [
    "sns.countplot(x='cp',hue='condition', data=df)\n",
    "plt.legend(labels=['No-Heart attack', 'Heart attck'])\n",
    "plt.xticks([0,1,2,3],['Typical angina', 'Atypical angina', 'Non-angina', 'Asymptomatic'])\n",
    "plt.title('Chest pain leading to Heart disease', loc='left')\n",
    "plt.xlabel('Chest pain')\n",
    "plt.show()"
   ]
  },
  {
   "cell_type": "markdown",
   "id": "6488416d-e1b2-489e-a3e4-442d6c94560a",
   "metadata": {},
   "source": [
    "* we can confirm from the most asymptomatic chest pain leads to heart disease"
   ]
  },
  {
   "cell_type": "markdown",
   "id": "be218093-bbd1-4076-af8f-5c7ddc35d9bc",
   "metadata": {},
   "source": [
    "# How Fasting Blood Sugar Leads To Heart Disease"
   ]
  },
  {
   "cell_type": "code",
   "execution_count": 55,
   "id": "d97b9b27-aa24-45d2-a319-373eb3a21b0a",
   "metadata": {},
   "outputs": [],
   "source": [
    "fbs_1 = df.loc[df.fbs == 1]\n",
    "fbs_0 = df.loc[df.fbs == 0]"
   ]
  },
  {
   "cell_type": "code",
   "execution_count": 56,
   "id": "70790291-6835-4b29-a633-bb8bb0307840",
   "metadata": {},
   "outputs": [
    {
     "data": {
      "text/plain": [
       "20"
      ]
     },
     "execution_count": 56,
     "metadata": {},
     "output_type": "execute_result"
    }
   ],
   "source": [
    "# \n",
    "d4 = fbs_1.loc[df.condition == 1]\n",
    "d4.condition.sum()"
   ]
  },
  {
   "cell_type": "markdown",
   "id": "4b04b3cd-2d1f-4b17-a839-43372a7d6b97",
   "metadata": {},
   "source": [
    "only 20 people with fbs greater than 120 have heart disease"
   ]
  },
  {
   "cell_type": "code",
   "execution_count": 57,
   "id": "e569d27a-e107-404a-bc2d-660589fa842c",
   "metadata": {},
   "outputs": [
    {
     "data": {
      "text/plain": [
       "(137, 9)"
      ]
     },
     "execution_count": 57,
     "metadata": {},
     "output_type": "execute_result"
    }
   ],
   "source": [
    "d4 = fbs_0.loc[df.condition == 0]\n",
    "d4.shape"
   ]
  },
  {
   "cell_type": "code",
   "execution_count": 58,
   "id": "84a50da8-c8d8-4609-84d5-e52b49bb36ce",
   "metadata": {},
   "outputs": [
    {
     "data": {
      "text/plain": [
       "<matplotlib.legend.Legend at 0x1bf0016a220>"
      ]
     },
     "execution_count": 58,
     "metadata": {},
     "output_type": "execute_result"
    },
    {
     "data": {
      "image/png": "[encoded data removed]",
      "text/plain": [
       "<Figure size 648x360 with 1 Axes>"
      ]
     },
     "metadata": {
      "needs_background": "light"
     },
     "output_type": "display_data"
    }
   ],
   "source": [
    "sns.countplot(x='fbs', hue='condition', data=df)\n",
    "plt.xticks([0,1],['<120mg/dl','>120mg/dl'])\n",
    "plt.legend(labels = ['No_heart_disease','Heart Disease'])"
   ]
  },
  {
   "cell_type": "markdown",
   "id": "1281d48f-c2cf-4a59-9616-a85fc84bddfa",
   "metadata": {},
   "source": [
    " # Inferences and Conclusion\n",
    " ----\n",
    " With the exploratory data analysis of heart disease patients, the following points are concluded\n",
    " > 1. The age distribution with the highest number of heart disease patients are betweeen 40s to 70s\n",
    " > 2. The heart disease peculiar to them is the asymptomatic chest pain\n",
    " > 3. patients with asymptomatic chest pain result in more heart disease than any other chest pain\n",
    " > 4. Female of age group 50 and 60 tends to have heart disease\n",
    " > 5. Male from age group 40 to 60 tends to have heart disease \n",
    " > 6. The number of males with heart disease is 112 while the females are 25"
   ]
  },
  {
   "cell_type": "markdown",
   "id": "bccbb582-7422-4c21-836f-35333c3cb12e",
   "metadata": {},
   "source": [
    "# Other Questions to be answered\n",
    "> 1. How Fasting sugar affect heart disease\n",
    "> 2. Type of thalassemia leads to heart disease\n",
    "> 3. How cholesterol affect heart disease"
   ]
  },
  {
   "cell_type": "code",
   "execution_count": null,
   "id": "bc5471bd-0b44-4883-ab1c-7cd6f6107d94",
   "metadata": {},
   "outputs": [],
   "source": []
  }
 ],
 "metadata": {
  "kernelspec": {
   "display_name": "Python 3 (ipykernel)",
   "language": "python",
   "name": "python3"
  },
  "language_info": {
   "codemirror_mode": {
    "name": "ipython",
    "version": 3
   },
   "file_extension": ".py",
   "mimetype": "text/x-python",
   "name": "python",
   "nbconvert_exporter": "python",
   "pygments_lexer": "ipython3",
   "version": "3.9.7"
  }
 },
 "nbformat": 4,
 "nbformat_minor": 5
}
